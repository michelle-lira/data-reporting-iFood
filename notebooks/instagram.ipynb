{
 "cells": [
  {
   "cell_type": "markdown",
   "id": "16efa3c0",
   "metadata": {},
   "source": [
    "# <font color='magenta'>Tratando os dados do Instagram</font>"
   ]
  },
  {
   "cell_type": "markdown",
   "id": "36022815",
   "metadata": {},
   "source": [
    "## <font color='magenta'>1. Importando as bibliotecas</font>"
   ]
  },
  {
   "cell_type": "code",
   "execution_count": 1,
   "id": "d014db55",
   "metadata": {},
   "outputs": [],
   "source": [
    "%matplotlib inline\n",
    "\n",
    "import numpy as np\n",
    "import pandas as pd\n",
    "import matplotlib.pyplot as plt\n",
    "import seaborn as sns\n",
    "from wordcloud import WordCloud, STOPWORDS, ImageColorGenerator\n",
    "import json\n",
    "import os\n",
    "\n",
    "sns.set_context(\"talk\", font_scale=1)\n",
    "sns.set_style(\"darkgrid\")\n",
    "sns.set_palette('tab10')\n",
    "sns.set_color_codes()"
   ]
  },
  {
   "cell_type": "markdown",
   "id": "85d621e6",
   "metadata": {},
   "source": [
    "## <font color='magenta'>2. Importando as bases de dados</font>"
   ]
  },
  {
   "cell_type": "code",
   "execution_count": 2,
   "id": "f8aaeea8",
   "metadata": {},
   "outputs": [],
   "source": [
    "df_liked_posts = pd.read_json(\"./dados/instagram/likes/liked_posts.json\", encoding='UTF-8')"
   ]
  },
  {
   "cell_type": "code",
   "execution_count": 3,
   "id": "d78aa47c",
   "metadata": {},
   "outputs": [],
   "source": [
    "df_post_comments = pd.read_json(\"./dados/instagram/comments/post_comments.json\", encoding='UTF-8')"
   ]
  },
  {
   "cell_type": "code",
   "execution_count": 4,
   "id": "00f1c9ba",
   "metadata": {},
   "outputs": [],
   "source": [
    "df_following = pd.read_json('./dados/instagram/followers_and_following/following.json', encoding='UTF-8')"
   ]
  },
  {
   "cell_type": "code",
   "execution_count": 5,
   "id": "125a8d3a",
   "metadata": {},
   "outputs": [],
   "source": [
    "df_close_friends = pd.read_json('./dados/instagram/followers_and_following/close_friends.json', encoding='UTF-8')"
   ]
  },
  {
   "cell_type": "markdown",
   "id": "b5a2675e",
   "metadata": {},
   "source": [
    "## <font color='magenta'>3. Limpando os dados</font>"
   ]
  },
  {
   "cell_type": "markdown",
   "id": "04883ee7",
   "metadata": {},
   "source": [
    "### <font color='purple'>3.1. liked_posts.json</font>\n",
    "**Deste arquivo eu preciso saber os posts que curti e o momento do dia em que curti.     \n",
    "Então vou descartar metadados da publicação curtida e manter no DataFrame apenas o nome do perfil e     \n",
    "data/hora da curtida. Preciso extrair as informações de data/hora do timestamp contido na base de dados.**"
   ]
  },
  {
   "cell_type": "code",
   "execution_count": 6,
   "id": "5b9f0cd7",
   "metadata": {},
   "outputs": [
    {
     "data": {
      "text/html": [
       "<div>\n",
       "<style scoped>\n",
       "    .dataframe tbody tr th:only-of-type {\n",
       "        vertical-align: middle;\n",
       "    }\n",
       "\n",
       "    .dataframe tbody tr th {\n",
       "        vertical-align: top;\n",
       "    }\n",
       "\n",
       "    .dataframe thead th {\n",
       "        text-align: right;\n",
       "    }\n",
       "</style>\n",
       "<table border=\"1\" class=\"dataframe\">\n",
       "  <thead>\n",
       "    <tr style=\"text-align: right;\">\n",
       "      <th></th>\n",
       "      <th>likes_media_likes</th>\n",
       "    </tr>\n",
       "  </thead>\n",
       "  <tbody>\n",
       "    <tr>\n",
       "      <th>0</th>\n",
       "      <td>{'title': 'tamisacosta', 'media_list_data': []...</td>\n",
       "    </tr>\n",
       "    <tr>\n",
       "      <th>1</th>\n",
       "      <td>{'title': 'pe_do_ze', 'media_list_data': [], '...</td>\n",
       "    </tr>\n",
       "    <tr>\n",
       "      <th>2</th>\n",
       "      <td>{'title': 'sushi_querida', 'media_list_data': ...</td>\n",
       "    </tr>\n",
       "    <tr>\n",
       "      <th>3</th>\n",
       "      <td>{'title': 'brunamalheiros', 'media_list_data':...</td>\n",
       "    </tr>\n",
       "    <tr>\n",
       "      <th>4</th>\n",
       "      <td>{'title': 'abaddon_hades', 'media_list_data': ...</td>\n",
       "    </tr>\n",
       "  </tbody>\n",
       "</table>\n",
       "</div>"
      ],
      "text/plain": [
       "                                   likes_media_likes\n",
       "0  {'title': 'tamisacosta', 'media_list_data': []...\n",
       "1  {'title': 'pe_do_ze', 'media_list_data': [], '...\n",
       "2  {'title': 'sushi_querida', 'media_list_data': ...\n",
       "3  {'title': 'brunamalheiros', 'media_list_data':...\n",
       "4  {'title': 'abaddon_hades', 'media_list_data': ..."
      ]
     },
     "execution_count": 6,
     "metadata": {},
     "output_type": "execute_result"
    }
   ],
   "source": [
    "df_liked_posts.head()"
   ]
  },
  {
   "cell_type": "code",
   "execution_count": 7,
   "id": "722bcee5",
   "metadata": {},
   "outputs": [
    {
     "data": {
      "text/html": [
       "<div>\n",
       "<style scoped>\n",
       "    .dataframe tbody tr th:only-of-type {\n",
       "        vertical-align: middle;\n",
       "    }\n",
       "\n",
       "    .dataframe tbody tr th {\n",
       "        vertical-align: top;\n",
       "    }\n",
       "\n",
       "    .dataframe thead th {\n",
       "        text-align: right;\n",
       "    }\n",
       "</style>\n",
       "<table border=\"1\" class=\"dataframe\">\n",
       "  <thead>\n",
       "    <tr style=\"text-align: right;\">\n",
       "      <th></th>\n",
       "      <th>likes_media_likes</th>\n",
       "    </tr>\n",
       "  </thead>\n",
       "  <tbody>\n",
       "    <tr>\n",
       "      <th>20409</th>\n",
       "      <td>{'title': 'bbcbrasil', 'media_list_data': [], ...</td>\n",
       "    </tr>\n",
       "    <tr>\n",
       "      <th>20410</th>\n",
       "      <td>{'title': 'conheciencia', 'media_list_data': [...</td>\n",
       "    </tr>\n",
       "    <tr>\n",
       "      <th>20411</th>\n",
       "      <td>{'title': 'melhorestirinhaz', 'media_list_data...</td>\n",
       "    </tr>\n",
       "    <tr>\n",
       "      <th>20412</th>\n",
       "      <td>{'title': 'colecoesfolha', 'media_list_data': ...</td>\n",
       "    </tr>\n",
       "    <tr>\n",
       "      <th>20413</th>\n",
       "      <td>{'title': 'skoobnews', 'media_list_data': [], ...</td>\n",
       "    </tr>\n",
       "  </tbody>\n",
       "</table>\n",
       "</div>"
      ],
      "text/plain": [
       "                                       likes_media_likes\n",
       "20409  {'title': 'bbcbrasil', 'media_list_data': [], ...\n",
       "20410  {'title': 'conheciencia', 'media_list_data': [...\n",
       "20411  {'title': 'melhorestirinhaz', 'media_list_data...\n",
       "20412  {'title': 'colecoesfolha', 'media_list_data': ...\n",
       "20413  {'title': 'skoobnews', 'media_list_data': [], ..."
      ]
     },
     "execution_count": 7,
     "metadata": {},
     "output_type": "execute_result"
    }
   ],
   "source": [
    "df_liked_posts.tail()"
   ]
  },
  {
   "cell_type": "code",
   "execution_count": 8,
   "id": "3c243f4b",
   "metadata": {},
   "outputs": [
    {
     "data": {
      "text/plain": [
       "pandas.core.series.Series"
      ]
     },
     "execution_count": 8,
     "metadata": {},
     "output_type": "execute_result"
    }
   ],
   "source": [
    "# Separando o timestamp em nova Series\n",
    "time_of_day = pd.json_normalize(df_liked_posts[\"likes_media_likes\"], \"string_list_data\")['timestamp']\n",
    "type(time_of_day)"
   ]
  },
  {
   "cell_type": "code",
   "execution_count": 9,
   "id": "d4205d59",
   "metadata": {},
   "outputs": [
    {
     "data": {
      "text/plain": [
       "0    1467259886\n",
       "1    1467208478\n",
       "2    1467086267\n",
       "3    1467086231\n",
       "4    1467086155\n",
       "Name: timestamp, dtype: int64"
      ]
     },
     "execution_count": 9,
     "metadata": {},
     "output_type": "execute_result"
    }
   ],
   "source": [
    "time_of_day.head()"
   ]
  },
  {
   "cell_type": "code",
   "execution_count": 10,
   "id": "6f997e62",
   "metadata": {},
   "outputs": [
    {
     "data": {
      "text/plain": [
       "pandas.core.series.Series"
      ]
     },
     "execution_count": 10,
     "metadata": {},
     "output_type": "execute_result"
    }
   ],
   "source": [
    "# Separando o nome do autor da postagem curtida\n",
    "post_owner = pd.json_normalize(df_liked_posts[\"likes_media_likes\"])[\"title\"]\n",
    "type(post_owner)"
   ]
  },
  {
   "cell_type": "code",
   "execution_count": 11,
   "id": "cbd4e9b2",
   "metadata": {},
   "outputs": [
    {
     "data": {
      "text/plain": [
       "0             tamisacosta\n",
       "1                pe_do_ze\n",
       "2           sushi_querida\n",
       "3          brunamalheiros\n",
       "4           abaddon_hades\n",
       "               ...       \n",
       "20409           bbcbrasil\n",
       "20410        conheciencia\n",
       "20411    melhorestirinhaz\n",
       "20412       colecoesfolha\n",
       "20413           skoobnews\n",
       "Name: title, Length: 20414, dtype: object"
      ]
     },
     "execution_count": 11,
     "metadata": {},
     "output_type": "execute_result"
    }
   ],
   "source": [
    "post_owner"
   ]
  },
  {
   "cell_type": "markdown",
   "id": "26f6d3e9",
   "metadata": {},
   "source": [
    "**Uma vez que extraí as informações úteis, preciso concatená-las em um novo DataFrame:**"
   ]
  },
  {
   "cell_type": "code",
   "execution_count": 12,
   "id": "5aab4a78",
   "metadata": {},
   "outputs": [
    {
     "data": {
      "text/plain": [
       "pandas.core.frame.DataFrame"
      ]
     },
     "execution_count": 12,
     "metadata": {},
     "output_type": "execute_result"
    }
   ],
   "source": [
    "data = {\n",
    "    'post_owner': post_owner,\n",
    "    'time_of_day': time_of_day \n",
    "}\n",
    "\n",
    "# Concatenando as informações do autor do post e período do dia\n",
    "df_likes = pd.concat(data, axis = 1)\n",
    "\n",
    "type(df_likes)"
   ]
  },
  {
   "cell_type": "code",
   "execution_count": 13,
   "id": "b34a6400",
   "metadata": {},
   "outputs": [
    {
     "data": {
      "text/html": [
       "<div>\n",
       "<style scoped>\n",
       "    .dataframe tbody tr th:only-of-type {\n",
       "        vertical-align: middle;\n",
       "    }\n",
       "\n",
       "    .dataframe tbody tr th {\n",
       "        vertical-align: top;\n",
       "    }\n",
       "\n",
       "    .dataframe thead th {\n",
       "        text-align: right;\n",
       "    }\n",
       "</style>\n",
       "<table border=\"1\" class=\"dataframe\">\n",
       "  <thead>\n",
       "    <tr style=\"text-align: right;\">\n",
       "      <th></th>\n",
       "      <th>post_owner</th>\n",
       "      <th>time_of_day</th>\n",
       "    </tr>\n",
       "  </thead>\n",
       "  <tbody>\n",
       "    <tr>\n",
       "      <th>0</th>\n",
       "      <td>tamisacosta</td>\n",
       "      <td>1467259886</td>\n",
       "    </tr>\n",
       "    <tr>\n",
       "      <th>1</th>\n",
       "      <td>pe_do_ze</td>\n",
       "      <td>1467208478</td>\n",
       "    </tr>\n",
       "    <tr>\n",
       "      <th>2</th>\n",
       "      <td>sushi_querida</td>\n",
       "      <td>1467086267</td>\n",
       "    </tr>\n",
       "    <tr>\n",
       "      <th>3</th>\n",
       "      <td>brunamalheiros</td>\n",
       "      <td>1467086231</td>\n",
       "    </tr>\n",
       "    <tr>\n",
       "      <th>4</th>\n",
       "      <td>abaddon_hades</td>\n",
       "      <td>1467086155</td>\n",
       "    </tr>\n",
       "  </tbody>\n",
       "</table>\n",
       "</div>"
      ],
      "text/plain": [
       "       post_owner  time_of_day\n",
       "0     tamisacosta   1467259886\n",
       "1        pe_do_ze   1467208478\n",
       "2   sushi_querida   1467086267\n",
       "3  brunamalheiros   1467086231\n",
       "4   abaddon_hades   1467086155"
      ]
     },
     "execution_count": 13,
     "metadata": {},
     "output_type": "execute_result"
    }
   ],
   "source": [
    "df_likes.head()"
   ]
  },
  {
   "cell_type": "markdown",
   "id": "4063247f",
   "metadata": {},
   "source": [
    "**Verificando o tamanho do DataFrame:**"
   ]
  },
  {
   "cell_type": "code",
   "execution_count": 14,
   "id": "0843cd7d",
   "metadata": {},
   "outputs": [
    {
     "data": {
      "text/plain": [
       "(20414, 2)"
      ]
     },
     "execution_count": 14,
     "metadata": {},
     "output_type": "execute_result"
    }
   ],
   "source": [
    "df_likes.shape"
   ]
  },
  {
   "cell_type": "markdown",
   "id": "2640c8aa",
   "metadata": {},
   "source": [
    "**Preciso checar se os tipos de dados de cada coluna permite a manipulação que pretendo realizar     \n",
    "e se há dados nulos:**"
   ]
  },
  {
   "cell_type": "code",
   "execution_count": 15,
   "id": "0c586da0",
   "metadata": {},
   "outputs": [
    {
     "name": "stdout",
     "output_type": "stream",
     "text": [
      "<class 'pandas.core.frame.DataFrame'>\n",
      "RangeIndex: 20414 entries, 0 to 20413\n",
      "Data columns (total 2 columns):\n",
      " #   Column       Non-Null Count  Dtype \n",
      "---  ------       --------------  ----- \n",
      " 0   post_owner   20414 non-null  object\n",
      " 1   time_of_day  20414 non-null  int64 \n",
      "dtypes: int64(1), object(1)\n",
      "memory usage: 319.1+ KB\n"
     ]
    }
   ],
   "source": [
    "# Informações sobre os dados:\n",
    "df_likes.info()"
   ]
  },
  {
   "cell_type": "markdown",
   "id": "4f417ae5",
   "metadata": {},
   "source": [
    "**Vejo que não há dados nulos e vou seguir com a converteção do tipo de dado da     \n",
    "coluna 'time' de timestamp -> para datetime:**"
   ]
  },
  {
   "cell_type": "code",
   "execution_count": 16,
   "id": "e69d5c62",
   "metadata": {},
   "outputs": [],
   "source": [
    "df_likes['time_of_day'] = pd.to_datetime(df_likes['time_of_day'], unit='s')"
   ]
  },
  {
   "cell_type": "code",
   "execution_count": 17,
   "id": "f37efd9e",
   "metadata": {},
   "outputs": [
    {
     "name": "stdout",
     "output_type": "stream",
     "text": [
      "<class 'pandas.core.frame.DataFrame'>\n",
      "RangeIndex: 20414 entries, 0 to 20413\n",
      "Data columns (total 2 columns):\n",
      " #   Column       Non-Null Count  Dtype         \n",
      "---  ------       --------------  -----         \n",
      " 0   post_owner   20414 non-null  object        \n",
      " 1   time_of_day  20414 non-null  datetime64[ns]\n",
      "dtypes: datetime64[ns](1), object(1)\n",
      "memory usage: 319.1+ KB\n"
     ]
    }
   ],
   "source": [
    "# Confirmando se os dados foram convertidos para o tipo datetime:\n",
    "df_likes.info()"
   ]
  },
  {
   "cell_type": "markdown",
   "id": "f1fa93c8",
   "metadata": {},
   "source": [
    "**Agora vou separar algumas informações contidas no timestamp e criar novas colunas     \n",
    "com ano, mês, dia do mês, dia da semana, data e hora:**"
   ]
  },
  {
   "cell_type": "code",
   "execution_count": 18,
   "id": "534a9306",
   "metadata": {},
   "outputs": [],
   "source": [
    "# Ano\n",
    "df_likes['year'] = df_likes['time_of_day'].dt.year\n",
    "\n",
    "# Mês\n",
    "df_likes['month'] = df_likes['time_of_day'].dt.month_name()\n",
    "\n",
    "# Dia do mês\n",
    "df_likes['day'] = df_likes['time_of_day'].dt.day\n",
    "\n",
    "# Dia da semana\n",
    "df_likes['day_of_week'] = df_likes['time_of_day'].dt.day_name()\n",
    "\n",
    "# Data\n",
    "df_likes['date'] = df_likes['time_of_day'].dt.date\n",
    "\n",
    "# Hora\n",
    "df_likes['hour'] = df_likes['time_of_day'].dt.hour"
   ]
  },
  {
   "cell_type": "code",
   "execution_count": 19,
   "id": "7077bfa7",
   "metadata": {},
   "outputs": [
    {
     "data": {
      "text/html": [
       "<div>\n",
       "<style scoped>\n",
       "    .dataframe tbody tr th:only-of-type {\n",
       "        vertical-align: middle;\n",
       "    }\n",
       "\n",
       "    .dataframe tbody tr th {\n",
       "        vertical-align: top;\n",
       "    }\n",
       "\n",
       "    .dataframe thead th {\n",
       "        text-align: right;\n",
       "    }\n",
       "</style>\n",
       "<table border=\"1\" class=\"dataframe\">\n",
       "  <thead>\n",
       "    <tr style=\"text-align: right;\">\n",
       "      <th></th>\n",
       "      <th>post_owner</th>\n",
       "      <th>time_of_day</th>\n",
       "      <th>year</th>\n",
       "      <th>month</th>\n",
       "      <th>day</th>\n",
       "      <th>day_of_week</th>\n",
       "      <th>date</th>\n",
       "      <th>hour</th>\n",
       "    </tr>\n",
       "  </thead>\n",
       "  <tbody>\n",
       "    <tr>\n",
       "      <th>0</th>\n",
       "      <td>tamisacosta</td>\n",
       "      <td>2016-06-30 04:11:26</td>\n",
       "      <td>2016</td>\n",
       "      <td>June</td>\n",
       "      <td>30</td>\n",
       "      <td>Thursday</td>\n",
       "      <td>2016-06-30</td>\n",
       "      <td>4</td>\n",
       "    </tr>\n",
       "    <tr>\n",
       "      <th>1</th>\n",
       "      <td>pe_do_ze</td>\n",
       "      <td>2016-06-29 13:54:38</td>\n",
       "      <td>2016</td>\n",
       "      <td>June</td>\n",
       "      <td>29</td>\n",
       "      <td>Wednesday</td>\n",
       "      <td>2016-06-29</td>\n",
       "      <td>13</td>\n",
       "    </tr>\n",
       "    <tr>\n",
       "      <th>2</th>\n",
       "      <td>sushi_querida</td>\n",
       "      <td>2016-06-28 03:57:47</td>\n",
       "      <td>2016</td>\n",
       "      <td>June</td>\n",
       "      <td>28</td>\n",
       "      <td>Tuesday</td>\n",
       "      <td>2016-06-28</td>\n",
       "      <td>3</td>\n",
       "    </tr>\n",
       "    <tr>\n",
       "      <th>3</th>\n",
       "      <td>brunamalheiros</td>\n",
       "      <td>2016-06-28 03:57:11</td>\n",
       "      <td>2016</td>\n",
       "      <td>June</td>\n",
       "      <td>28</td>\n",
       "      <td>Tuesday</td>\n",
       "      <td>2016-06-28</td>\n",
       "      <td>3</td>\n",
       "    </tr>\n",
       "    <tr>\n",
       "      <th>4</th>\n",
       "      <td>abaddon_hades</td>\n",
       "      <td>2016-06-28 03:55:55</td>\n",
       "      <td>2016</td>\n",
       "      <td>June</td>\n",
       "      <td>28</td>\n",
       "      <td>Tuesday</td>\n",
       "      <td>2016-06-28</td>\n",
       "      <td>3</td>\n",
       "    </tr>\n",
       "  </tbody>\n",
       "</table>\n",
       "</div>"
      ],
      "text/plain": [
       "       post_owner         time_of_day  year month  day day_of_week  \\\n",
       "0     tamisacosta 2016-06-30 04:11:26  2016  June   30    Thursday   \n",
       "1        pe_do_ze 2016-06-29 13:54:38  2016  June   29   Wednesday   \n",
       "2   sushi_querida 2016-06-28 03:57:47  2016  June   28     Tuesday   \n",
       "3  brunamalheiros 2016-06-28 03:57:11  2016  June   28     Tuesday   \n",
       "4   abaddon_hades 2016-06-28 03:55:55  2016  June   28     Tuesday   \n",
       "\n",
       "         date  hour  \n",
       "0  2016-06-30     4  \n",
       "1  2016-06-29    13  \n",
       "2  2016-06-28     3  \n",
       "3  2016-06-28     3  \n",
       "4  2016-06-28     3  "
      ]
     },
     "execution_count": 19,
     "metadata": {},
     "output_type": "execute_result"
    }
   ],
   "source": [
    "df_likes.head()"
   ]
  },
  {
   "cell_type": "markdown",
   "id": "92682a5b",
   "metadata": {},
   "source": [
    "**Agora vou criar colunas específicas para o momento do dia, exemplo:       \n",
    "1.Início da manhã,    \n",
    "2.Manhã,     \n",
    "3.Tarde,         \n",
    "4.Noite,    \n",
    "5.Final da Noite e     \n",
    "6.Madrugada**    "
   ]
  },
  {
   "cell_type": "code",
   "execution_count": 20,
   "id": "6887e2c9",
   "metadata": {},
   "outputs": [],
   "source": [
    "# Criando uma função e estabelecendo as faixas de horário que pretendo segmentar:\n",
    "def segmenting_day(x):\n",
    "    if (x > 4) and (x <= 8):\n",
    "        return 'Early Morning'\n",
    "    elif (x > 8) and (x <= 12 ):\n",
    "        return 'Morning'\n",
    "    elif (x > 12) and (x <= 16):\n",
    "        return'Afternoon'\n",
    "    elif (x > 16) and (x <= 20) :\n",
    "        return 'Evening'\n",
    "    elif (x > 20) and (x <= 24):\n",
    "        return'Night'\n",
    "    elif (x <= 4):\n",
    "        return'Late Night'"
   ]
  },
  {
   "cell_type": "code",
   "execution_count": 21,
   "id": "a78754ff",
   "metadata": {},
   "outputs": [],
   "source": [
    "# Criando uma coluna com a parte do dia e aplicando a função à coluna de horário:\n",
    "df_likes['part_of_day'] = df_likes['hour'].apply(segmenting_day)"
   ]
  },
  {
   "cell_type": "code",
   "execution_count": 22,
   "id": "f470b0f4",
   "metadata": {},
   "outputs": [
    {
     "data": {
      "text/html": [
       "<div>\n",
       "<style scoped>\n",
       "    .dataframe tbody tr th:only-of-type {\n",
       "        vertical-align: middle;\n",
       "    }\n",
       "\n",
       "    .dataframe tbody tr th {\n",
       "        vertical-align: top;\n",
       "    }\n",
       "\n",
       "    .dataframe thead th {\n",
       "        text-align: right;\n",
       "    }\n",
       "</style>\n",
       "<table border=\"1\" class=\"dataframe\">\n",
       "  <thead>\n",
       "    <tr style=\"text-align: right;\">\n",
       "      <th></th>\n",
       "      <th>post_owner</th>\n",
       "      <th>time_of_day</th>\n",
       "      <th>year</th>\n",
       "      <th>month</th>\n",
       "      <th>day</th>\n",
       "      <th>day_of_week</th>\n",
       "      <th>date</th>\n",
       "      <th>hour</th>\n",
       "      <th>part_of_day</th>\n",
       "    </tr>\n",
       "  </thead>\n",
       "  <tbody>\n",
       "    <tr>\n",
       "      <th>0</th>\n",
       "      <td>tamisacosta</td>\n",
       "      <td>2016-06-30 04:11:26</td>\n",
       "      <td>2016</td>\n",
       "      <td>June</td>\n",
       "      <td>30</td>\n",
       "      <td>Thursday</td>\n",
       "      <td>2016-06-30</td>\n",
       "      <td>4</td>\n",
       "      <td>Late Night</td>\n",
       "    </tr>\n",
       "    <tr>\n",
       "      <th>1</th>\n",
       "      <td>pe_do_ze</td>\n",
       "      <td>2016-06-29 13:54:38</td>\n",
       "      <td>2016</td>\n",
       "      <td>June</td>\n",
       "      <td>29</td>\n",
       "      <td>Wednesday</td>\n",
       "      <td>2016-06-29</td>\n",
       "      <td>13</td>\n",
       "      <td>Afternoon</td>\n",
       "    </tr>\n",
       "    <tr>\n",
       "      <th>2</th>\n",
       "      <td>sushi_querida</td>\n",
       "      <td>2016-06-28 03:57:47</td>\n",
       "      <td>2016</td>\n",
       "      <td>June</td>\n",
       "      <td>28</td>\n",
       "      <td>Tuesday</td>\n",
       "      <td>2016-06-28</td>\n",
       "      <td>3</td>\n",
       "      <td>Late Night</td>\n",
       "    </tr>\n",
       "    <tr>\n",
       "      <th>3</th>\n",
       "      <td>brunamalheiros</td>\n",
       "      <td>2016-06-28 03:57:11</td>\n",
       "      <td>2016</td>\n",
       "      <td>June</td>\n",
       "      <td>28</td>\n",
       "      <td>Tuesday</td>\n",
       "      <td>2016-06-28</td>\n",
       "      <td>3</td>\n",
       "      <td>Late Night</td>\n",
       "    </tr>\n",
       "    <tr>\n",
       "      <th>4</th>\n",
       "      <td>abaddon_hades</td>\n",
       "      <td>2016-06-28 03:55:55</td>\n",
       "      <td>2016</td>\n",
       "      <td>June</td>\n",
       "      <td>28</td>\n",
       "      <td>Tuesday</td>\n",
       "      <td>2016-06-28</td>\n",
       "      <td>3</td>\n",
       "      <td>Late Night</td>\n",
       "    </tr>\n",
       "    <tr>\n",
       "      <th>5</th>\n",
       "      <td>abaddon_hades</td>\n",
       "      <td>2016-06-28 03:53:56</td>\n",
       "      <td>2016</td>\n",
       "      <td>June</td>\n",
       "      <td>28</td>\n",
       "      <td>Tuesday</td>\n",
       "      <td>2016-06-28</td>\n",
       "      <td>3</td>\n",
       "      <td>Late Night</td>\n",
       "    </tr>\n",
       "    <tr>\n",
       "      <th>6</th>\n",
       "      <td>ncwintersart</td>\n",
       "      <td>2016-06-28 03:50:57</td>\n",
       "      <td>2016</td>\n",
       "      <td>June</td>\n",
       "      <td>28</td>\n",
       "      <td>Tuesday</td>\n",
       "      <td>2016-06-28</td>\n",
       "      <td>3</td>\n",
       "      <td>Late Night</td>\n",
       "    </tr>\n",
       "    <tr>\n",
       "      <th>7</th>\n",
       "      <td>pitty</td>\n",
       "      <td>2016-06-28 03:20:18</td>\n",
       "      <td>2016</td>\n",
       "      <td>June</td>\n",
       "      <td>28</td>\n",
       "      <td>Tuesday</td>\n",
       "      <td>2016-06-28</td>\n",
       "      <td>3</td>\n",
       "      <td>Late Night</td>\n",
       "    </tr>\n",
       "    <tr>\n",
       "      <th>8</th>\n",
       "      <td>yuridomeniconi</td>\n",
       "      <td>2016-06-26 05:11:50</td>\n",
       "      <td>2016</td>\n",
       "      <td>June</td>\n",
       "      <td>26</td>\n",
       "      <td>Sunday</td>\n",
       "      <td>2016-06-26</td>\n",
       "      <td>5</td>\n",
       "      <td>Early Morning</td>\n",
       "    </tr>\n",
       "    <tr>\n",
       "      <th>9</th>\n",
       "      <td>wildlife_animalslife</td>\n",
       "      <td>2016-06-23 06:55:14</td>\n",
       "      <td>2016</td>\n",
       "      <td>June</td>\n",
       "      <td>23</td>\n",
       "      <td>Thursday</td>\n",
       "      <td>2016-06-23</td>\n",
       "      <td>6</td>\n",
       "      <td>Early Morning</td>\n",
       "    </tr>\n",
       "    <tr>\n",
       "      <th>10</th>\n",
       "      <td>amorpradown</td>\n",
       "      <td>2016-06-23 06:55:05</td>\n",
       "      <td>2016</td>\n",
       "      <td>June</td>\n",
       "      <td>23</td>\n",
       "      <td>Thursday</td>\n",
       "      <td>2016-06-23</td>\n",
       "      <td>6</td>\n",
       "      <td>Early Morning</td>\n",
       "    </tr>\n",
       "    <tr>\n",
       "      <th>11</th>\n",
       "      <td>casadosaber</td>\n",
       "      <td>2016-06-23 06:54:53</td>\n",
       "      <td>2016</td>\n",
       "      <td>June</td>\n",
       "      <td>23</td>\n",
       "      <td>Thursday</td>\n",
       "      <td>2016-06-23</td>\n",
       "      <td>6</td>\n",
       "      <td>Early Morning</td>\n",
       "    </tr>\n",
       "    <tr>\n",
       "      <th>12</th>\n",
       "      <td>johnmayer</td>\n",
       "      <td>2016-06-23 06:52:02</td>\n",
       "      <td>2016</td>\n",
       "      <td>June</td>\n",
       "      <td>23</td>\n",
       "      <td>Thursday</td>\n",
       "      <td>2016-06-23</td>\n",
       "      <td>6</td>\n",
       "      <td>Early Morning</td>\n",
       "    </tr>\n",
       "    <tr>\n",
       "      <th>13</th>\n",
       "      <td>johnmayer</td>\n",
       "      <td>2016-06-23 06:51:01</td>\n",
       "      <td>2016</td>\n",
       "      <td>June</td>\n",
       "      <td>23</td>\n",
       "      <td>Thursday</td>\n",
       "      <td>2016-06-23</td>\n",
       "      <td>6</td>\n",
       "      <td>Early Morning</td>\n",
       "    </tr>\n",
       "    <tr>\n",
       "      <th>14</th>\n",
       "      <td>sylvesterhenrique</td>\n",
       "      <td>2016-06-23 02:42:11</td>\n",
       "      <td>2016</td>\n",
       "      <td>June</td>\n",
       "      <td>23</td>\n",
       "      <td>Thursday</td>\n",
       "      <td>2016-06-23</td>\n",
       "      <td>2</td>\n",
       "      <td>Late Night</td>\n",
       "    </tr>\n",
       "  </tbody>\n",
       "</table>\n",
       "</div>"
      ],
      "text/plain": [
       "              post_owner         time_of_day  year month  day day_of_week  \\\n",
       "0            tamisacosta 2016-06-30 04:11:26  2016  June   30    Thursday   \n",
       "1               pe_do_ze 2016-06-29 13:54:38  2016  June   29   Wednesday   \n",
       "2          sushi_querida 2016-06-28 03:57:47  2016  June   28     Tuesday   \n",
       "3         brunamalheiros 2016-06-28 03:57:11  2016  June   28     Tuesday   \n",
       "4          abaddon_hades 2016-06-28 03:55:55  2016  June   28     Tuesday   \n",
       "5          abaddon_hades 2016-06-28 03:53:56  2016  June   28     Tuesday   \n",
       "6           ncwintersart 2016-06-28 03:50:57  2016  June   28     Tuesday   \n",
       "7                  pitty 2016-06-28 03:20:18  2016  June   28     Tuesday   \n",
       "8         yuridomeniconi 2016-06-26 05:11:50  2016  June   26      Sunday   \n",
       "9   wildlife_animalslife 2016-06-23 06:55:14  2016  June   23    Thursday   \n",
       "10           amorpradown 2016-06-23 06:55:05  2016  June   23    Thursday   \n",
       "11           casadosaber 2016-06-23 06:54:53  2016  June   23    Thursday   \n",
       "12             johnmayer 2016-06-23 06:52:02  2016  June   23    Thursday   \n",
       "13             johnmayer 2016-06-23 06:51:01  2016  June   23    Thursday   \n",
       "14     sylvesterhenrique 2016-06-23 02:42:11  2016  June   23    Thursday   \n",
       "\n",
       "          date  hour    part_of_day  \n",
       "0   2016-06-30     4     Late Night  \n",
       "1   2016-06-29    13      Afternoon  \n",
       "2   2016-06-28     3     Late Night  \n",
       "3   2016-06-28     3     Late Night  \n",
       "4   2016-06-28     3     Late Night  \n",
       "5   2016-06-28     3     Late Night  \n",
       "6   2016-06-28     3     Late Night  \n",
       "7   2016-06-28     3     Late Night  \n",
       "8   2016-06-26     5  Early Morning  \n",
       "9   2016-06-23     6  Early Morning  \n",
       "10  2016-06-23     6  Early Morning  \n",
       "11  2016-06-23     6  Early Morning  \n",
       "12  2016-06-23     6  Early Morning  \n",
       "13  2016-06-23     6  Early Morning  \n",
       "14  2016-06-23     2     Late Night  "
      ]
     },
     "execution_count": 22,
     "metadata": {},
     "output_type": "execute_result"
    }
   ],
   "source": [
    "# Verificando se as faixas de horário estão segmentadas:\n",
    "df_likes.head(15)"
   ]
  },
  {
   "cell_type": "markdown",
   "id": "9aaef969",
   "metadata": {},
   "source": [
    "### <font color='purple'>3.1.1. Salvando os dados tratados</font>"
   ]
  },
  {
   "cell_type": "code",
   "execution_count": 23,
   "id": "5968fd38",
   "metadata": {},
   "outputs": [],
   "source": [
    "#df_likes.to_csv('./dados_tratados/instagram/likes.csv', index = None)"
   ]
  },
  {
   "cell_type": "markdown",
   "id": "c877225c",
   "metadata": {},
   "source": [
    "### <font color='purple'>3.2. post_comments.json</font>\n",
    "**Deste arquivo eu preciso saber os posts que comentei e o momento do dia em que o fiz.     \n",
    "Vou descartar metadados da publicação e manter no DataFrame apenas o nome do perfil e     \n",
    "data/hora do comentário. Preciso extrair as informações de data/hora do timestamp contido na base de dados.**"
   ]
  },
  {
   "cell_type": "code",
   "execution_count": 24,
   "id": "28816a96",
   "metadata": {},
   "outputs": [
    {
     "data": {
      "text/html": [
       "<div>\n",
       "<style scoped>\n",
       "    .dataframe tbody tr th:only-of-type {\n",
       "        vertical-align: middle;\n",
       "    }\n",
       "\n",
       "    .dataframe tbody tr th {\n",
       "        vertical-align: top;\n",
       "    }\n",
       "\n",
       "    .dataframe thead th {\n",
       "        text-align: right;\n",
       "    }\n",
       "</style>\n",
       "<table border=\"1\" class=\"dataframe\">\n",
       "  <thead>\n",
       "    <tr style=\"text-align: right;\">\n",
       "      <th></th>\n",
       "      <th>comments_media_comments</th>\n",
       "    </tr>\n",
       "  </thead>\n",
       "  <tbody>\n",
       "    <tr>\n",
       "      <th>0</th>\n",
       "      <td>{'title': '__ch3ll__', 'media_list_data': [], ...</td>\n",
       "    </tr>\n",
       "    <tr>\n",
       "      <th>1</th>\n",
       "      <td>{'title': '__ch3ll__', 'media_list_data': [], ...</td>\n",
       "    </tr>\n",
       "    <tr>\n",
       "      <th>2</th>\n",
       "      <td>{'title': 'vittorfernando', 'media_list_data':...</td>\n",
       "    </tr>\n",
       "    <tr>\n",
       "      <th>3</th>\n",
       "      <td>{'title': 'fotochaaat', 'media_list_data': [],...</td>\n",
       "    </tr>\n",
       "    <tr>\n",
       "      <th>4</th>\n",
       "      <td>{'title': 'prof.danielgontijo', 'media_list_da...</td>\n",
       "    </tr>\n",
       "  </tbody>\n",
       "</table>\n",
       "</div>"
      ],
      "text/plain": [
       "                             comments_media_comments\n",
       "0  {'title': '__ch3ll__', 'media_list_data': [], ...\n",
       "1  {'title': '__ch3ll__', 'media_list_data': [], ...\n",
       "2  {'title': 'vittorfernando', 'media_list_data':...\n",
       "3  {'title': 'fotochaaat', 'media_list_data': [],...\n",
       "4  {'title': 'prof.danielgontijo', 'media_list_da..."
      ]
     },
     "execution_count": 24,
     "metadata": {},
     "output_type": "execute_result"
    }
   ],
   "source": [
    "df_post_comments.head()"
   ]
  },
  {
   "cell_type": "code",
   "execution_count": 25,
   "id": "1fa5a6e6",
   "metadata": {},
   "outputs": [
    {
     "data": {
      "text/plain": [
       "pandas.core.series.Series"
      ]
     },
     "execution_count": 25,
     "metadata": {},
     "output_type": "execute_result"
    }
   ],
   "source": [
    "# Separando o timestamp em nova Series\n",
    "time_of_day = pd.json_normalize(df_post_comments[\"comments_media_comments\"], \"string_list_data\")['timestamp']\n",
    "type(time_of_day)"
   ]
  },
  {
   "cell_type": "code",
   "execution_count": 26,
   "id": "bc01dd3d",
   "metadata": {},
   "outputs": [
    {
     "data": {
      "text/plain": [
       "0    1626653508\n",
       "1    1626631356\n",
       "2    1626537541\n",
       "3    1626484050\n",
       "4    1626448718\n",
       "Name: timestamp, dtype: int64"
      ]
     },
     "execution_count": 26,
     "metadata": {},
     "output_type": "execute_result"
    }
   ],
   "source": [
    "time_of_day.head()"
   ]
  },
  {
   "cell_type": "code",
   "execution_count": 27,
   "id": "6d54f0b4",
   "metadata": {},
   "outputs": [
    {
     "data": {
      "text/plain": [
       "pandas.core.series.Series"
      ]
     },
     "execution_count": 27,
     "metadata": {},
     "output_type": "execute_result"
    }
   ],
   "source": [
    "# Separando o nome do autor da postagem comentada\n",
    "post_owner = pd.json_normalize(df_post_comments[\"comments_media_comments\"])[\"title\"]\n",
    "type(post_owner)"
   ]
  },
  {
   "cell_type": "code",
   "execution_count": 28,
   "id": "cd2134bd",
   "metadata": {},
   "outputs": [
    {
     "data": {
      "text/plain": [
       "0                __ch3ll__\n",
       "1                __ch3ll__\n",
       "2           vittorfernando\n",
       "3               fotochaaat\n",
       "4       prof.danielgontijo\n",
       "               ...        \n",
       "1175                bianca\n",
       "1176        brunamalheiros\n",
       "1177                dailus\n",
       "1178          partiurecife\n",
       "1179        deyvisonfsilva\n",
       "Name: title, Length: 1180, dtype: object"
      ]
     },
     "execution_count": 28,
     "metadata": {},
     "output_type": "execute_result"
    }
   ],
   "source": [
    "post_owner"
   ]
  },
  {
   "cell_type": "markdown",
   "id": "0f309e6c",
   "metadata": {},
   "source": [
    "**Uma vez que extraí as informações úteis, preciso concatená-las em um novo DataFrame:**"
   ]
  },
  {
   "cell_type": "code",
   "execution_count": 29,
   "id": "da54f5b2",
   "metadata": {},
   "outputs": [
    {
     "data": {
      "text/plain": [
       "pandas.core.frame.DataFrame"
      ]
     },
     "execution_count": 29,
     "metadata": {},
     "output_type": "execute_result"
    }
   ],
   "source": [
    "data = {\n",
    "    'post_owner': post_owner,\n",
    "    'time_of_day': time_of_day \n",
    "}\n",
    "\n",
    "# Concatenando as informações do autor do post e período do dia\n",
    "df_comments = pd.concat(data, axis = 1)\n",
    "\n",
    "type(df_comments)"
   ]
  },
  {
   "cell_type": "code",
   "execution_count": 30,
   "id": "c6e97ce1",
   "metadata": {},
   "outputs": [
    {
     "data": {
      "text/html": [
       "<div>\n",
       "<style scoped>\n",
       "    .dataframe tbody tr th:only-of-type {\n",
       "        vertical-align: middle;\n",
       "    }\n",
       "\n",
       "    .dataframe tbody tr th {\n",
       "        vertical-align: top;\n",
       "    }\n",
       "\n",
       "    .dataframe thead th {\n",
       "        text-align: right;\n",
       "    }\n",
       "</style>\n",
       "<table border=\"1\" class=\"dataframe\">\n",
       "  <thead>\n",
       "    <tr style=\"text-align: right;\">\n",
       "      <th></th>\n",
       "      <th>post_owner</th>\n",
       "      <th>time_of_day</th>\n",
       "    </tr>\n",
       "  </thead>\n",
       "  <tbody>\n",
       "    <tr>\n",
       "      <th>0</th>\n",
       "      <td>__ch3ll__</td>\n",
       "      <td>1626653508</td>\n",
       "    </tr>\n",
       "    <tr>\n",
       "      <th>1</th>\n",
       "      <td>__ch3ll__</td>\n",
       "      <td>1626631356</td>\n",
       "    </tr>\n",
       "    <tr>\n",
       "      <th>2</th>\n",
       "      <td>vittorfernando</td>\n",
       "      <td>1626537541</td>\n",
       "    </tr>\n",
       "    <tr>\n",
       "      <th>3</th>\n",
       "      <td>fotochaaat</td>\n",
       "      <td>1626484050</td>\n",
       "    </tr>\n",
       "    <tr>\n",
       "      <th>4</th>\n",
       "      <td>prof.danielgontijo</td>\n",
       "      <td>1626448718</td>\n",
       "    </tr>\n",
       "  </tbody>\n",
       "</table>\n",
       "</div>"
      ],
      "text/plain": [
       "           post_owner  time_of_day\n",
       "0           __ch3ll__   1626653508\n",
       "1           __ch3ll__   1626631356\n",
       "2      vittorfernando   1626537541\n",
       "3          fotochaaat   1626484050\n",
       "4  prof.danielgontijo   1626448718"
      ]
     },
     "execution_count": 30,
     "metadata": {},
     "output_type": "execute_result"
    }
   ],
   "source": [
    "df_comments.head()"
   ]
  },
  {
   "cell_type": "markdown",
   "id": "5ec36e06",
   "metadata": {},
   "source": [
    "**Verificando o tamanho do DataFrame:**"
   ]
  },
  {
   "cell_type": "code",
   "execution_count": 31,
   "id": "58afb928",
   "metadata": {},
   "outputs": [
    {
     "data": {
      "text/plain": [
       "(1180, 2)"
      ]
     },
     "execution_count": 31,
     "metadata": {},
     "output_type": "execute_result"
    }
   ],
   "source": [
    "df_comments.shape"
   ]
  },
  {
   "cell_type": "markdown",
   "id": "75a45763",
   "metadata": {},
   "source": [
    "**Preciso checar se os tipos de dados de cada coluna permite a manipulação que pretendo realizar\n",
    "e se há dados nulos:**"
   ]
  },
  {
   "cell_type": "code",
   "execution_count": 32,
   "id": "5cd22758",
   "metadata": {},
   "outputs": [
    {
     "name": "stdout",
     "output_type": "stream",
     "text": [
      "<class 'pandas.core.frame.DataFrame'>\n",
      "RangeIndex: 1180 entries, 0 to 1179\n",
      "Data columns (total 2 columns):\n",
      " #   Column       Non-Null Count  Dtype \n",
      "---  ------       --------------  ----- \n",
      " 0   post_owner   1180 non-null   object\n",
      " 1   time_of_day  1180 non-null   int64 \n",
      "dtypes: int64(1), object(1)\n",
      "memory usage: 18.6+ KB\n"
     ]
    }
   ],
   "source": [
    "# Informações sobre os dados:\n",
    "df_comments.info()"
   ]
  },
  {
   "cell_type": "markdown",
   "id": "69e5e13d",
   "metadata": {},
   "source": [
    "**Vejo que não há dados nulos e vou seguir com a conversão do tipo de dado da     \n",
    "coluna 'time_of_day_media' de timestamp -> para datetime:**"
   ]
  },
  {
   "cell_type": "code",
   "execution_count": 33,
   "id": "04e44989",
   "metadata": {},
   "outputs": [],
   "source": [
    "df_comments['time_of_day'] = pd.to_datetime(df_comments['time_of_day'], unit='s')"
   ]
  },
  {
   "cell_type": "code",
   "execution_count": 34,
   "id": "b8ec8c2e",
   "metadata": {},
   "outputs": [
    {
     "name": "stdout",
     "output_type": "stream",
     "text": [
      "<class 'pandas.core.frame.DataFrame'>\n",
      "RangeIndex: 1180 entries, 0 to 1179\n",
      "Data columns (total 2 columns):\n",
      " #   Column       Non-Null Count  Dtype         \n",
      "---  ------       --------------  -----         \n",
      " 0   post_owner   1180 non-null   object        \n",
      " 1   time_of_day  1180 non-null   datetime64[ns]\n",
      "dtypes: datetime64[ns](1), object(1)\n",
      "memory usage: 18.6+ KB\n"
     ]
    }
   ],
   "source": [
    "# Confirmando se os dados foram convertidos para o tipo datetime:\n",
    "df_comments.info()"
   ]
  },
  {
   "cell_type": "markdown",
   "id": "83628672",
   "metadata": {},
   "source": [
    "**Agora vou separar algumas informações contidas no timestamp e criar novas colunas      \n",
    "com ano, mês, dia do mês, dia da semana, data e hora:**"
   ]
  },
  {
   "cell_type": "code",
   "execution_count": 35,
   "id": "67380cff",
   "metadata": {},
   "outputs": [
    {
     "data": {
      "text/html": [
       "<div>\n",
       "<style scoped>\n",
       "    .dataframe tbody tr th:only-of-type {\n",
       "        vertical-align: middle;\n",
       "    }\n",
       "\n",
       "    .dataframe tbody tr th {\n",
       "        vertical-align: top;\n",
       "    }\n",
       "\n",
       "    .dataframe thead th {\n",
       "        text-align: right;\n",
       "    }\n",
       "</style>\n",
       "<table border=\"1\" class=\"dataframe\">\n",
       "  <thead>\n",
       "    <tr style=\"text-align: right;\">\n",
       "      <th></th>\n",
       "      <th>post_owner</th>\n",
       "      <th>time_of_day</th>\n",
       "      <th>year</th>\n",
       "      <th>month</th>\n",
       "      <th>day</th>\n",
       "      <th>day_week</th>\n",
       "      <th>date</th>\n",
       "      <th>hour</th>\n",
       "    </tr>\n",
       "  </thead>\n",
       "  <tbody>\n",
       "    <tr>\n",
       "      <th>0</th>\n",
       "      <td>__ch3ll__</td>\n",
       "      <td>2021-07-19 00:11:48</td>\n",
       "      <td>2021</td>\n",
       "      <td>July</td>\n",
       "      <td>19</td>\n",
       "      <td>Monday</td>\n",
       "      <td>2021-07-19</td>\n",
       "      <td>0</td>\n",
       "    </tr>\n",
       "    <tr>\n",
       "      <th>1</th>\n",
       "      <td>__ch3ll__</td>\n",
       "      <td>2021-07-18 18:02:36</td>\n",
       "      <td>2021</td>\n",
       "      <td>July</td>\n",
       "      <td>18</td>\n",
       "      <td>Sunday</td>\n",
       "      <td>2021-07-18</td>\n",
       "      <td>18</td>\n",
       "    </tr>\n",
       "    <tr>\n",
       "      <th>2</th>\n",
       "      <td>vittorfernando</td>\n",
       "      <td>2021-07-17 15:59:01</td>\n",
       "      <td>2021</td>\n",
       "      <td>July</td>\n",
       "      <td>17</td>\n",
       "      <td>Saturday</td>\n",
       "      <td>2021-07-17</td>\n",
       "      <td>15</td>\n",
       "    </tr>\n",
       "    <tr>\n",
       "      <th>3</th>\n",
       "      <td>fotochaaat</td>\n",
       "      <td>2021-07-17 01:07:30</td>\n",
       "      <td>2021</td>\n",
       "      <td>July</td>\n",
       "      <td>17</td>\n",
       "      <td>Saturday</td>\n",
       "      <td>2021-07-17</td>\n",
       "      <td>1</td>\n",
       "    </tr>\n",
       "    <tr>\n",
       "      <th>4</th>\n",
       "      <td>prof.danielgontijo</td>\n",
       "      <td>2021-07-16 15:18:38</td>\n",
       "      <td>2021</td>\n",
       "      <td>July</td>\n",
       "      <td>16</td>\n",
       "      <td>Friday</td>\n",
       "      <td>2021-07-16</td>\n",
       "      <td>15</td>\n",
       "    </tr>\n",
       "  </tbody>\n",
       "</table>\n",
       "</div>"
      ],
      "text/plain": [
       "           post_owner         time_of_day  year month  day  day_week  \\\n",
       "0           __ch3ll__ 2021-07-19 00:11:48  2021  July   19    Monday   \n",
       "1           __ch3ll__ 2021-07-18 18:02:36  2021  July   18    Sunday   \n",
       "2      vittorfernando 2021-07-17 15:59:01  2021  July   17  Saturday   \n",
       "3          fotochaaat 2021-07-17 01:07:30  2021  July   17  Saturday   \n",
       "4  prof.danielgontijo 2021-07-16 15:18:38  2021  July   16    Friday   \n",
       "\n",
       "         date  hour  \n",
       "0  2021-07-19     0  \n",
       "1  2021-07-18    18  \n",
       "2  2021-07-17    15  \n",
       "3  2021-07-17     1  \n",
       "4  2021-07-16    15  "
      ]
     },
     "execution_count": 35,
     "metadata": {},
     "output_type": "execute_result"
    }
   ],
   "source": [
    "# Ano\n",
    "df_comments['year'] = df_comments['time_of_day'].dt.year\n",
    "\n",
    "# Mês\n",
    "df_comments['month'] = df_comments['time_of_day'].dt.month_name()\n",
    "\n",
    "# Dia do mês\n",
    "df_comments['day'] = df_comments['time_of_day'].dt.day\n",
    "\n",
    "# Dia da semana\n",
    "df_comments['day_week'] = df_comments['time_of_day'].dt.day_name()\n",
    "\n",
    "# Data\n",
    "df_comments['date'] = df_comments['time_of_day'].dt.date\n",
    "\n",
    "# Hora\n",
    "df_comments['hour'] = df_comments['time_of_day'].dt.hour\n",
    "\n",
    "df_comments.head()"
   ]
  },
  {
   "cell_type": "markdown",
   "id": "1c397f5b",
   "metadata": {},
   "source": [
    "**Agora vou criar colunas específicas para o momento do dia, exemplo:     \n",
    "1.Início da manhã,     \n",
    "2.Manhã,     \n",
    "3.Tarde,     \n",
    "4.Noite,    \n",
    "5.Final da Noite e    \n",
    "6.Madrugada**   "
   ]
  },
  {
   "cell_type": "code",
   "execution_count": 36,
   "id": "441eaf29",
   "metadata": {},
   "outputs": [],
   "source": [
    "# Criando uma coluna com a parte do dia e aplicando a função segmenting_day() à coluna de horário:\n",
    "df_comments['part_of_day'] = df_comments['hour'].apply(segmenting_day)"
   ]
  },
  {
   "cell_type": "code",
   "execution_count": 37,
   "id": "efa4bc58",
   "metadata": {},
   "outputs": [
    {
     "data": {
      "text/html": [
       "<div>\n",
       "<style scoped>\n",
       "    .dataframe tbody tr th:only-of-type {\n",
       "        vertical-align: middle;\n",
       "    }\n",
       "\n",
       "    .dataframe tbody tr th {\n",
       "        vertical-align: top;\n",
       "    }\n",
       "\n",
       "    .dataframe thead th {\n",
       "        text-align: right;\n",
       "    }\n",
       "</style>\n",
       "<table border=\"1\" class=\"dataframe\">\n",
       "  <thead>\n",
       "    <tr style=\"text-align: right;\">\n",
       "      <th></th>\n",
       "      <th>post_owner</th>\n",
       "      <th>time_of_day</th>\n",
       "      <th>year</th>\n",
       "      <th>month</th>\n",
       "      <th>day</th>\n",
       "      <th>day_week</th>\n",
       "      <th>date</th>\n",
       "      <th>hour</th>\n",
       "      <th>part_of_day</th>\n",
       "    </tr>\n",
       "  </thead>\n",
       "  <tbody>\n",
       "    <tr>\n",
       "      <th>0</th>\n",
       "      <td>__ch3ll__</td>\n",
       "      <td>2021-07-19 00:11:48</td>\n",
       "      <td>2021</td>\n",
       "      <td>July</td>\n",
       "      <td>19</td>\n",
       "      <td>Monday</td>\n",
       "      <td>2021-07-19</td>\n",
       "      <td>0</td>\n",
       "      <td>Late Night</td>\n",
       "    </tr>\n",
       "    <tr>\n",
       "      <th>1</th>\n",
       "      <td>__ch3ll__</td>\n",
       "      <td>2021-07-18 18:02:36</td>\n",
       "      <td>2021</td>\n",
       "      <td>July</td>\n",
       "      <td>18</td>\n",
       "      <td>Sunday</td>\n",
       "      <td>2021-07-18</td>\n",
       "      <td>18</td>\n",
       "      <td>Evening</td>\n",
       "    </tr>\n",
       "    <tr>\n",
       "      <th>2</th>\n",
       "      <td>vittorfernando</td>\n",
       "      <td>2021-07-17 15:59:01</td>\n",
       "      <td>2021</td>\n",
       "      <td>July</td>\n",
       "      <td>17</td>\n",
       "      <td>Saturday</td>\n",
       "      <td>2021-07-17</td>\n",
       "      <td>15</td>\n",
       "      <td>Afternoon</td>\n",
       "    </tr>\n",
       "    <tr>\n",
       "      <th>3</th>\n",
       "      <td>fotochaaat</td>\n",
       "      <td>2021-07-17 01:07:30</td>\n",
       "      <td>2021</td>\n",
       "      <td>July</td>\n",
       "      <td>17</td>\n",
       "      <td>Saturday</td>\n",
       "      <td>2021-07-17</td>\n",
       "      <td>1</td>\n",
       "      <td>Late Night</td>\n",
       "    </tr>\n",
       "    <tr>\n",
       "      <th>4</th>\n",
       "      <td>prof.danielgontijo</td>\n",
       "      <td>2021-07-16 15:18:38</td>\n",
       "      <td>2021</td>\n",
       "      <td>July</td>\n",
       "      <td>16</td>\n",
       "      <td>Friday</td>\n",
       "      <td>2021-07-16</td>\n",
       "      <td>15</td>\n",
       "      <td>Afternoon</td>\n",
       "    </tr>\n",
       "    <tr>\n",
       "      <th>5</th>\n",
       "      <td>sebastiao.salgados</td>\n",
       "      <td>2021-07-16 14:07:26</td>\n",
       "      <td>2021</td>\n",
       "      <td>July</td>\n",
       "      <td>16</td>\n",
       "      <td>Friday</td>\n",
       "      <td>2021-07-16</td>\n",
       "      <td>14</td>\n",
       "      <td>Afternoon</td>\n",
       "    </tr>\n",
       "    <tr>\n",
       "      <th>6</th>\n",
       "      <td>manoel_uchoa</td>\n",
       "      <td>2021-07-15 14:19:33</td>\n",
       "      <td>2021</td>\n",
       "      <td>July</td>\n",
       "      <td>15</td>\n",
       "      <td>Thursday</td>\n",
       "      <td>2021-07-15</td>\n",
       "      <td>14</td>\n",
       "      <td>Afternoon</td>\n",
       "    </tr>\n",
       "    <tr>\n",
       "      <th>7</th>\n",
       "      <td>filoeliteratu</td>\n",
       "      <td>2021-07-15 13:52:04</td>\n",
       "      <td>2021</td>\n",
       "      <td>July</td>\n",
       "      <td>15</td>\n",
       "      <td>Thursday</td>\n",
       "      <td>2021-07-15</td>\n",
       "      <td>13</td>\n",
       "      <td>Afternoon</td>\n",
       "    </tr>\n",
       "    <tr>\n",
       "      <th>8</th>\n",
       "      <td>sebastiao.salgados</td>\n",
       "      <td>2021-07-15 13:45:02</td>\n",
       "      <td>2021</td>\n",
       "      <td>July</td>\n",
       "      <td>15</td>\n",
       "      <td>Thursday</td>\n",
       "      <td>2021-07-15</td>\n",
       "      <td>13</td>\n",
       "      <td>Afternoon</td>\n",
       "    </tr>\n",
       "    <tr>\n",
       "      <th>9</th>\n",
       "      <td>semdeuses</td>\n",
       "      <td>2021-07-14 15:26:35</td>\n",
       "      <td>2021</td>\n",
       "      <td>July</td>\n",
       "      <td>14</td>\n",
       "      <td>Wednesday</td>\n",
       "      <td>2021-07-14</td>\n",
       "      <td>15</td>\n",
       "      <td>Afternoon</td>\n",
       "    </tr>\n",
       "    <tr>\n",
       "      <th>10</th>\n",
       "      <td>semdeuses</td>\n",
       "      <td>2021-07-14 15:11:55</td>\n",
       "      <td>2021</td>\n",
       "      <td>July</td>\n",
       "      <td>14</td>\n",
       "      <td>Wednesday</td>\n",
       "      <td>2021-07-14</td>\n",
       "      <td>15</td>\n",
       "      <td>Afternoon</td>\n",
       "    </tr>\n",
       "    <tr>\n",
       "      <th>11</th>\n",
       "      <td>sebastiao.salgados</td>\n",
       "      <td>2021-07-14 01:36:29</td>\n",
       "      <td>2021</td>\n",
       "      <td>July</td>\n",
       "      <td>14</td>\n",
       "      <td>Wednesday</td>\n",
       "      <td>2021-07-14</td>\n",
       "      <td>1</td>\n",
       "      <td>Late Night</td>\n",
       "    </tr>\n",
       "    <tr>\n",
       "      <th>12</th>\n",
       "      <td>revistatpm</td>\n",
       "      <td>2021-07-13 19:43:57</td>\n",
       "      <td>2021</td>\n",
       "      <td>July</td>\n",
       "      <td>13</td>\n",
       "      <td>Tuesday</td>\n",
       "      <td>2021-07-13</td>\n",
       "      <td>19</td>\n",
       "      <td>Evening</td>\n",
       "    </tr>\n",
       "    <tr>\n",
       "      <th>13</th>\n",
       "      <td>sebastiao.salgados</td>\n",
       "      <td>2021-07-13 14:47:32</td>\n",
       "      <td>2021</td>\n",
       "      <td>July</td>\n",
       "      <td>13</td>\n",
       "      <td>Tuesday</td>\n",
       "      <td>2021-07-13</td>\n",
       "      <td>14</td>\n",
       "      <td>Afternoon</td>\n",
       "    </tr>\n",
       "    <tr>\n",
       "      <th>14</th>\n",
       "      <td>coyotebeatz</td>\n",
       "      <td>2021-07-10 20:57:31</td>\n",
       "      <td>2021</td>\n",
       "      <td>July</td>\n",
       "      <td>10</td>\n",
       "      <td>Saturday</td>\n",
       "      <td>2021-07-10</td>\n",
       "      <td>20</td>\n",
       "      <td>Evening</td>\n",
       "    </tr>\n",
       "  </tbody>\n",
       "</table>\n",
       "</div>"
      ],
      "text/plain": [
       "            post_owner         time_of_day  year month  day   day_week  \\\n",
       "0            __ch3ll__ 2021-07-19 00:11:48  2021  July   19     Monday   \n",
       "1            __ch3ll__ 2021-07-18 18:02:36  2021  July   18     Sunday   \n",
       "2       vittorfernando 2021-07-17 15:59:01  2021  July   17   Saturday   \n",
       "3           fotochaaat 2021-07-17 01:07:30  2021  July   17   Saturday   \n",
       "4   prof.danielgontijo 2021-07-16 15:18:38  2021  July   16     Friday   \n",
       "5   sebastiao.salgados 2021-07-16 14:07:26  2021  July   16     Friday   \n",
       "6         manoel_uchoa 2021-07-15 14:19:33  2021  July   15   Thursday   \n",
       "7        filoeliteratu 2021-07-15 13:52:04  2021  July   15   Thursday   \n",
       "8   sebastiao.salgados 2021-07-15 13:45:02  2021  July   15   Thursday   \n",
       "9            semdeuses 2021-07-14 15:26:35  2021  July   14  Wednesday   \n",
       "10           semdeuses 2021-07-14 15:11:55  2021  July   14  Wednesday   \n",
       "11  sebastiao.salgados 2021-07-14 01:36:29  2021  July   14  Wednesday   \n",
       "12          revistatpm 2021-07-13 19:43:57  2021  July   13    Tuesday   \n",
       "13  sebastiao.salgados 2021-07-13 14:47:32  2021  July   13    Tuesday   \n",
       "14         coyotebeatz 2021-07-10 20:57:31  2021  July   10   Saturday   \n",
       "\n",
       "          date  hour part_of_day  \n",
       "0   2021-07-19     0  Late Night  \n",
       "1   2021-07-18    18     Evening  \n",
       "2   2021-07-17    15   Afternoon  \n",
       "3   2021-07-17     1  Late Night  \n",
       "4   2021-07-16    15   Afternoon  \n",
       "5   2021-07-16    14   Afternoon  \n",
       "6   2021-07-15    14   Afternoon  \n",
       "7   2021-07-15    13   Afternoon  \n",
       "8   2021-07-15    13   Afternoon  \n",
       "9   2021-07-14    15   Afternoon  \n",
       "10  2021-07-14    15   Afternoon  \n",
       "11  2021-07-14     1  Late Night  \n",
       "12  2021-07-13    19     Evening  \n",
       "13  2021-07-13    14   Afternoon  \n",
       "14  2021-07-10    20     Evening  "
      ]
     },
     "execution_count": 37,
     "metadata": {},
     "output_type": "execute_result"
    }
   ],
   "source": [
    "# Verificando se as faixas de horário estão segmentadas:\n",
    "df_comments.head(15)"
   ]
  },
  {
   "cell_type": "markdown",
   "id": "c36a714e",
   "metadata": {},
   "source": [
    "### <font color='purple'>3.2.1. Salvando os dados tratados</font>"
   ]
  },
  {
   "cell_type": "code",
   "execution_count": 73,
   "id": "9df8c5f5",
   "metadata": {},
   "outputs": [],
   "source": [
    "#df_comments.to_csv('./dados_tratados/instagram/comments.csv', index = None)"
   ]
  },
  {
   "cell_type": "code",
   "execution_count": 74,
   "id": "e37078b6",
   "metadata": {},
   "outputs": [
    {
     "data": {
      "text/html": [
       "<div>\n",
       "<style scoped>\n",
       "    .dataframe tbody tr th:only-of-type {\n",
       "        vertical-align: middle;\n",
       "    }\n",
       "\n",
       "    .dataframe tbody tr th {\n",
       "        vertical-align: top;\n",
       "    }\n",
       "\n",
       "    .dataframe thead th {\n",
       "        text-align: right;\n",
       "    }\n",
       "</style>\n",
       "<table border=\"1\" class=\"dataframe\">\n",
       "  <thead>\n",
       "    <tr style=\"text-align: right;\">\n",
       "      <th></th>\n",
       "      <th>post_owner</th>\n",
       "      <th>time_of_day</th>\n",
       "      <th>year</th>\n",
       "      <th>month</th>\n",
       "      <th>day</th>\n",
       "      <th>day_week</th>\n",
       "      <th>date</th>\n",
       "      <th>hour</th>\n",
       "      <th>part_of_day</th>\n",
       "    </tr>\n",
       "  </thead>\n",
       "  <tbody>\n",
       "    <tr>\n",
       "      <th>0</th>\n",
       "      <td>__ch3ll__</td>\n",
       "      <td>2021-07-19 00:11:48</td>\n",
       "      <td>2021</td>\n",
       "      <td>July</td>\n",
       "      <td>19</td>\n",
       "      <td>Monday</td>\n",
       "      <td>2021-07-19</td>\n",
       "      <td>0</td>\n",
       "      <td>Late Night</td>\n",
       "    </tr>\n",
       "    <tr>\n",
       "      <th>1</th>\n",
       "      <td>__ch3ll__</td>\n",
       "      <td>2021-07-18 18:02:36</td>\n",
       "      <td>2021</td>\n",
       "      <td>July</td>\n",
       "      <td>18</td>\n",
       "      <td>Sunday</td>\n",
       "      <td>2021-07-18</td>\n",
       "      <td>18</td>\n",
       "      <td>Evening</td>\n",
       "    </tr>\n",
       "    <tr>\n",
       "      <th>2</th>\n",
       "      <td>vittorfernando</td>\n",
       "      <td>2021-07-17 15:59:01</td>\n",
       "      <td>2021</td>\n",
       "      <td>July</td>\n",
       "      <td>17</td>\n",
       "      <td>Saturday</td>\n",
       "      <td>2021-07-17</td>\n",
       "      <td>15</td>\n",
       "      <td>Afternoon</td>\n",
       "    </tr>\n",
       "    <tr>\n",
       "      <th>3</th>\n",
       "      <td>fotochaaat</td>\n",
       "      <td>2021-07-17 01:07:30</td>\n",
       "      <td>2021</td>\n",
       "      <td>July</td>\n",
       "      <td>17</td>\n",
       "      <td>Saturday</td>\n",
       "      <td>2021-07-17</td>\n",
       "      <td>1</td>\n",
       "      <td>Late Night</td>\n",
       "    </tr>\n",
       "    <tr>\n",
       "      <th>4</th>\n",
       "      <td>prof.danielgontijo</td>\n",
       "      <td>2021-07-16 15:18:38</td>\n",
       "      <td>2021</td>\n",
       "      <td>July</td>\n",
       "      <td>16</td>\n",
       "      <td>Friday</td>\n",
       "      <td>2021-07-16</td>\n",
       "      <td>15</td>\n",
       "      <td>Afternoon</td>\n",
       "    </tr>\n",
       "  </tbody>\n",
       "</table>\n",
       "</div>"
      ],
      "text/plain": [
       "           post_owner          time_of_day  year month  day  day_week  \\\n",
       "0           __ch3ll__  2021-07-19 00:11:48  2021  July   19    Monday   \n",
       "1           __ch3ll__  2021-07-18 18:02:36  2021  July   18    Sunday   \n",
       "2      vittorfernando  2021-07-17 15:59:01  2021  July   17  Saturday   \n",
       "3          fotochaaat  2021-07-17 01:07:30  2021  July   17  Saturday   \n",
       "4  prof.danielgontijo  2021-07-16 15:18:38  2021  July   16    Friday   \n",
       "\n",
       "         date  hour part_of_day  \n",
       "0  2021-07-19     0  Late Night  \n",
       "1  2021-07-18    18     Evening  \n",
       "2  2021-07-17    15   Afternoon  \n",
       "3  2021-07-17     1  Late Night  \n",
       "4  2021-07-16    15   Afternoon  "
      ]
     },
     "execution_count": 74,
     "metadata": {},
     "output_type": "execute_result"
    }
   ],
   "source": [
    "df_comments = pd.read_csv(\"./dados_tratados/instagram/comments.csv\")\n",
    "df_comments.head()"
   ]
  },
  {
   "cell_type": "markdown",
   "id": "ff1af9e7",
   "metadata": {},
   "source": [
    "### <font color='purple'>3.3. following.json</font>\n",
    "**Deste arquivo eu preciso listar as contas que segui e o momento do dia em que o fiz.     \n",
    "Vou descartar metadados da publicação e manter no DataFrame apenas o nome do perfil e     \n",
    "data/hora da ação. Preciso extrair as informações de data/hora do timestamp contido na base de dados.**"
   ]
  },
  {
   "cell_type": "code",
   "execution_count": 39,
   "id": "4928c8f5",
   "metadata": {},
   "outputs": [
    {
     "data": {
      "text/html": [
       "<div>\n",
       "<style scoped>\n",
       "    .dataframe tbody tr th:only-of-type {\n",
       "        vertical-align: middle;\n",
       "    }\n",
       "\n",
       "    .dataframe tbody tr th {\n",
       "        vertical-align: top;\n",
       "    }\n",
       "\n",
       "    .dataframe thead th {\n",
       "        text-align: right;\n",
       "    }\n",
       "</style>\n",
       "<table border=\"1\" class=\"dataframe\">\n",
       "  <thead>\n",
       "    <tr style=\"text-align: right;\">\n",
       "      <th></th>\n",
       "      <th>relationships_following</th>\n",
       "    </tr>\n",
       "  </thead>\n",
       "  <tbody>\n",
       "    <tr>\n",
       "      <th>0</th>\n",
       "      <td>{'title': '', 'media_list_data': [], 'string_l...</td>\n",
       "    </tr>\n",
       "    <tr>\n",
       "      <th>1</th>\n",
       "      <td>{'title': '', 'media_list_data': [], 'string_l...</td>\n",
       "    </tr>\n",
       "    <tr>\n",
       "      <th>2</th>\n",
       "      <td>{'title': '', 'media_list_data': [], 'string_l...</td>\n",
       "    </tr>\n",
       "    <tr>\n",
       "      <th>3</th>\n",
       "      <td>{'title': '', 'media_list_data': [], 'string_l...</td>\n",
       "    </tr>\n",
       "    <tr>\n",
       "      <th>4</th>\n",
       "      <td>{'title': '', 'media_list_data': [], 'string_l...</td>\n",
       "    </tr>\n",
       "  </tbody>\n",
       "</table>\n",
       "</div>"
      ],
      "text/plain": [
       "                             relationships_following\n",
       "0  {'title': '', 'media_list_data': [], 'string_l...\n",
       "1  {'title': '', 'media_list_data': [], 'string_l...\n",
       "2  {'title': '', 'media_list_data': [], 'string_l...\n",
       "3  {'title': '', 'media_list_data': [], 'string_l...\n",
       "4  {'title': '', 'media_list_data': [], 'string_l..."
      ]
     },
     "execution_count": 39,
     "metadata": {},
     "output_type": "execute_result"
    }
   ],
   "source": [
    "df_following.head()"
   ]
  },
  {
   "cell_type": "code",
   "execution_count": 40,
   "id": "cf7bea28",
   "metadata": {},
   "outputs": [
    {
     "data": {
      "text/plain": [
       "pandas.core.series.Series"
      ]
     },
     "execution_count": 40,
     "metadata": {},
     "output_type": "execute_result"
    }
   ],
   "source": [
    "# Separando o timestamp em nova Series\n",
    "time_of_day = pd.json_normalize(df_following[\"relationships_following\"], \"string_list_data\")['timestamp']\n",
    "\n",
    "type(time_of_day)"
   ]
  },
  {
   "cell_type": "code",
   "execution_count": 41,
   "id": "81674d49",
   "metadata": {},
   "outputs": [
    {
     "data": {
      "text/plain": [
       "0    1626750337\n",
       "1    1626569502\n",
       "2    1626569364\n",
       "3    1626568574\n",
       "4    1626568464\n",
       "Name: timestamp, dtype: int64"
      ]
     },
     "execution_count": 41,
     "metadata": {},
     "output_type": "execute_result"
    }
   ],
   "source": [
    "time_of_day.head()"
   ]
  },
  {
   "cell_type": "code",
   "execution_count": 42,
   "id": "262bae22",
   "metadata": {},
   "outputs": [
    {
     "data": {
      "text/plain": [
       "pandas.core.series.Series"
      ]
     },
     "execution_count": 42,
     "metadata": {},
     "output_type": "execute_result"
    }
   ],
   "source": [
    "# Separando o nome do autor da postagem comentada\n",
    "post_owner = pd.json_normalize(df_following[\"relationships_following\"], \"string_list_data\")['value']\n",
    "\n",
    "type(post_owner)"
   ]
  },
  {
   "cell_type": "code",
   "execution_count": 43,
   "id": "09724e33",
   "metadata": {},
   "outputs": [
    {
     "data": {
      "text/plain": [
       "0        hashtagprogramacao\n",
       "1       paporetonaofazcurva\n",
       "2                 somosqoda\n",
       "3            carlos_melo.py\n",
       "4          inteligencialtda\n",
       "               ...         \n",
       "2960             ricardobsa\n",
       "2961          laisnobregams\n",
       "2962            igorliravoz\n",
       "2963     eu_rafaela_andrade\n",
       "2964             renandozzo\n",
       "Name: value, Length: 2965, dtype: object"
      ]
     },
     "execution_count": 43,
     "metadata": {},
     "output_type": "execute_result"
    }
   ],
   "source": [
    "post_owner"
   ]
  },
  {
   "cell_type": "markdown",
   "id": "3f5e0902",
   "metadata": {},
   "source": [
    "**Uma vez que extraí as informações úteis, preciso concatená-las em um novo DataFrame:**"
   ]
  },
  {
   "cell_type": "code",
   "execution_count": 44,
   "id": "8c344162",
   "metadata": {},
   "outputs": [
    {
     "data": {
      "text/plain": [
       "pandas.core.frame.DataFrame"
      ]
     },
     "execution_count": 44,
     "metadata": {},
     "output_type": "execute_result"
    }
   ],
   "source": [
    "data = {\n",
    "    'post_owner': post_owner,\n",
    "    'time_of_day': time_of_day \n",
    "}\n",
    "\n",
    "df_following = pd.concat(data, axis = 1)\n",
    "\n",
    "type(df_following)"
   ]
  },
  {
   "cell_type": "code",
   "execution_count": 45,
   "id": "0fa4ce20",
   "metadata": {},
   "outputs": [
    {
     "data": {
      "text/html": [
       "<div>\n",
       "<style scoped>\n",
       "    .dataframe tbody tr th:only-of-type {\n",
       "        vertical-align: middle;\n",
       "    }\n",
       "\n",
       "    .dataframe tbody tr th {\n",
       "        vertical-align: top;\n",
       "    }\n",
       "\n",
       "    .dataframe thead th {\n",
       "        text-align: right;\n",
       "    }\n",
       "</style>\n",
       "<table border=\"1\" class=\"dataframe\">\n",
       "  <thead>\n",
       "    <tr style=\"text-align: right;\">\n",
       "      <th></th>\n",
       "      <th>post_owner</th>\n",
       "      <th>time_of_day</th>\n",
       "    </tr>\n",
       "  </thead>\n",
       "  <tbody>\n",
       "    <tr>\n",
       "      <th>0</th>\n",
       "      <td>hashtagprogramacao</td>\n",
       "      <td>1626750337</td>\n",
       "    </tr>\n",
       "    <tr>\n",
       "      <th>1</th>\n",
       "      <td>paporetonaofazcurva</td>\n",
       "      <td>1626569502</td>\n",
       "    </tr>\n",
       "    <tr>\n",
       "      <th>2</th>\n",
       "      <td>somosqoda</td>\n",
       "      <td>1626569364</td>\n",
       "    </tr>\n",
       "    <tr>\n",
       "      <th>3</th>\n",
       "      <td>carlos_melo.py</td>\n",
       "      <td>1626568574</td>\n",
       "    </tr>\n",
       "    <tr>\n",
       "      <th>4</th>\n",
       "      <td>inteligencialtda</td>\n",
       "      <td>1626568464</td>\n",
       "    </tr>\n",
       "  </tbody>\n",
       "</table>\n",
       "</div>"
      ],
      "text/plain": [
       "            post_owner  time_of_day\n",
       "0   hashtagprogramacao   1626750337\n",
       "1  paporetonaofazcurva   1626569502\n",
       "2            somosqoda   1626569364\n",
       "3       carlos_melo.py   1626568574\n",
       "4     inteligencialtda   1626568464"
      ]
     },
     "execution_count": 45,
     "metadata": {},
     "output_type": "execute_result"
    }
   ],
   "source": [
    "df_following.head()"
   ]
  },
  {
   "cell_type": "markdown",
   "id": "dd5c4eb2",
   "metadata": {},
   "source": [
    "**Verificando o tamanho do DataFrame:**"
   ]
  },
  {
   "cell_type": "code",
   "execution_count": 46,
   "id": "8923c289",
   "metadata": {},
   "outputs": [
    {
     "data": {
      "text/plain": [
       "(2965, 2)"
      ]
     },
     "execution_count": 46,
     "metadata": {},
     "output_type": "execute_result"
    }
   ],
   "source": [
    "df_following.shape"
   ]
  },
  {
   "cell_type": "markdown",
   "id": "10c2ce31",
   "metadata": {},
   "source": [
    "**Preciso checar se os tipos de dados de cada coluna permite a manipulação que pretendo realizar e se há dados nulos:**"
   ]
  },
  {
   "cell_type": "code",
   "execution_count": 47,
   "id": "294f3555",
   "metadata": {},
   "outputs": [
    {
     "name": "stdout",
     "output_type": "stream",
     "text": [
      "<class 'pandas.core.frame.DataFrame'>\n",
      "RangeIndex: 2965 entries, 0 to 2964\n",
      "Data columns (total 2 columns):\n",
      " #   Column       Non-Null Count  Dtype \n",
      "---  ------       --------------  ----- \n",
      " 0   post_owner   2965 non-null   object\n",
      " 1   time_of_day  2965 non-null   int64 \n",
      "dtypes: int64(1), object(1)\n",
      "memory usage: 46.5+ KB\n"
     ]
    }
   ],
   "source": [
    "# Informações sobre os dados:\n",
    "df_following.info()"
   ]
  },
  {
   "cell_type": "markdown",
   "id": "d46e9228",
   "metadata": {},
   "source": [
    "**Vejo que não há dados nulos e vou seguir com a conversão do tipo de dado da      \n",
    "coluna 'time_of_day_media' de timestamp -> para datetime:**"
   ]
  },
  {
   "cell_type": "code",
   "execution_count": 48,
   "id": "03e42785",
   "metadata": {},
   "outputs": [],
   "source": [
    "df_following['time_of_day'] = pd.to_datetime(df_following['time_of_day'], unit='s')"
   ]
  },
  {
   "cell_type": "code",
   "execution_count": 49,
   "id": "a6c6107a",
   "metadata": {},
   "outputs": [
    {
     "name": "stdout",
     "output_type": "stream",
     "text": [
      "<class 'pandas.core.frame.DataFrame'>\n",
      "RangeIndex: 2965 entries, 0 to 2964\n",
      "Data columns (total 2 columns):\n",
      " #   Column       Non-Null Count  Dtype         \n",
      "---  ------       --------------  -----         \n",
      " 0   post_owner   2965 non-null   object        \n",
      " 1   time_of_day  2965 non-null   datetime64[ns]\n",
      "dtypes: datetime64[ns](1), object(1)\n",
      "memory usage: 46.5+ KB\n"
     ]
    }
   ],
   "source": [
    "# Confirmando se os dados foram convertidos para o tipo datetime:\n",
    "df_following.info()"
   ]
  },
  {
   "cell_type": "markdown",
   "id": "47ac48ac",
   "metadata": {},
   "source": [
    "**Agora vou separar algumas informações contidas no timestamp e criar novas colunas     \n",
    "com ano, mês, dia do mês, dia da semana, data e hora:**"
   ]
  },
  {
   "cell_type": "code",
   "execution_count": 50,
   "id": "647479d2",
   "metadata": {},
   "outputs": [
    {
     "data": {
      "text/html": [
       "<div>\n",
       "<style scoped>\n",
       "    .dataframe tbody tr th:only-of-type {\n",
       "        vertical-align: middle;\n",
       "    }\n",
       "\n",
       "    .dataframe tbody tr th {\n",
       "        vertical-align: top;\n",
       "    }\n",
       "\n",
       "    .dataframe thead th {\n",
       "        text-align: right;\n",
       "    }\n",
       "</style>\n",
       "<table border=\"1\" class=\"dataframe\">\n",
       "  <thead>\n",
       "    <tr style=\"text-align: right;\">\n",
       "      <th></th>\n",
       "      <th>post_owner</th>\n",
       "      <th>time_of_day</th>\n",
       "      <th>year</th>\n",
       "      <th>month</th>\n",
       "      <th>day</th>\n",
       "      <th>day_week</th>\n",
       "      <th>date</th>\n",
       "      <th>hour</th>\n",
       "    </tr>\n",
       "  </thead>\n",
       "  <tbody>\n",
       "    <tr>\n",
       "      <th>0</th>\n",
       "      <td>hashtagprogramacao</td>\n",
       "      <td>2021-07-20 03:05:37</td>\n",
       "      <td>2021</td>\n",
       "      <td>July</td>\n",
       "      <td>20</td>\n",
       "      <td>Tuesday</td>\n",
       "      <td>2021-07-20</td>\n",
       "      <td>3</td>\n",
       "    </tr>\n",
       "    <tr>\n",
       "      <th>1</th>\n",
       "      <td>paporetonaofazcurva</td>\n",
       "      <td>2021-07-18 00:51:42</td>\n",
       "      <td>2021</td>\n",
       "      <td>July</td>\n",
       "      <td>18</td>\n",
       "      <td>Sunday</td>\n",
       "      <td>2021-07-18</td>\n",
       "      <td>0</td>\n",
       "    </tr>\n",
       "    <tr>\n",
       "      <th>2</th>\n",
       "      <td>somosqoda</td>\n",
       "      <td>2021-07-18 00:49:24</td>\n",
       "      <td>2021</td>\n",
       "      <td>July</td>\n",
       "      <td>18</td>\n",
       "      <td>Sunday</td>\n",
       "      <td>2021-07-18</td>\n",
       "      <td>0</td>\n",
       "    </tr>\n",
       "    <tr>\n",
       "      <th>3</th>\n",
       "      <td>carlos_melo.py</td>\n",
       "      <td>2021-07-18 00:36:14</td>\n",
       "      <td>2021</td>\n",
       "      <td>July</td>\n",
       "      <td>18</td>\n",
       "      <td>Sunday</td>\n",
       "      <td>2021-07-18</td>\n",
       "      <td>0</td>\n",
       "    </tr>\n",
       "    <tr>\n",
       "      <th>4</th>\n",
       "      <td>inteligencialtda</td>\n",
       "      <td>2021-07-18 00:34:24</td>\n",
       "      <td>2021</td>\n",
       "      <td>July</td>\n",
       "      <td>18</td>\n",
       "      <td>Sunday</td>\n",
       "      <td>2021-07-18</td>\n",
       "      <td>0</td>\n",
       "    </tr>\n",
       "  </tbody>\n",
       "</table>\n",
       "</div>"
      ],
      "text/plain": [
       "            post_owner         time_of_day  year month  day day_week  \\\n",
       "0   hashtagprogramacao 2021-07-20 03:05:37  2021  July   20  Tuesday   \n",
       "1  paporetonaofazcurva 2021-07-18 00:51:42  2021  July   18   Sunday   \n",
       "2            somosqoda 2021-07-18 00:49:24  2021  July   18   Sunday   \n",
       "3       carlos_melo.py 2021-07-18 00:36:14  2021  July   18   Sunday   \n",
       "4     inteligencialtda 2021-07-18 00:34:24  2021  July   18   Sunday   \n",
       "\n",
       "         date  hour  \n",
       "0  2021-07-20     3  \n",
       "1  2021-07-18     0  \n",
       "2  2021-07-18     0  \n",
       "3  2021-07-18     0  \n",
       "4  2021-07-18     0  "
      ]
     },
     "execution_count": 50,
     "metadata": {},
     "output_type": "execute_result"
    }
   ],
   "source": [
    "# Ano\n",
    "df_following['year'] = df_following['time_of_day'].dt.year\n",
    "\n",
    "# Mês\n",
    "df_following['month'] = df_following['time_of_day'].dt.month_name()\n",
    "\n",
    "# Dia do mês\n",
    "df_following['day'] = df_following['time_of_day'].dt.day\n",
    "\n",
    "# Dia da semana\n",
    "df_following['day_week'] = df_following['time_of_day'].dt.day_name()\n",
    "\n",
    "# Data\n",
    "df_following['date'] = df_following['time_of_day'].dt.date\n",
    "\n",
    "# Hora\n",
    "df_following['hour'] = df_following['time_of_day'].dt.hour\n",
    "\n",
    "df_following.head()"
   ]
  },
  {
   "cell_type": "markdown",
   "id": "bc61c8ee",
   "metadata": {},
   "source": [
    "**Agora vou criar colunas específicas para o momento do dia, exemplo:     \n",
    "1.Início da manhã,     \n",
    "2.Manhã,     \n",
    "3.Tarde,    \n",
    "4.Noite,     \n",
    "5.Final da Noite e     \n",
    "6.Madrugada**    "
   ]
  },
  {
   "cell_type": "code",
   "execution_count": 51,
   "id": "5e2d4d2f",
   "metadata": {},
   "outputs": [],
   "source": [
    "# Criando uma coluna com a parte do dia e aplicando a função segmenting_day() à coluna de horário:\n",
    "df_following['part_of_day'] = df_following['hour'].apply(segmenting_day)"
   ]
  },
  {
   "cell_type": "code",
   "execution_count": 52,
   "id": "d85a56e8",
   "metadata": {},
   "outputs": [
    {
     "data": {
      "text/html": [
       "<div>\n",
       "<style scoped>\n",
       "    .dataframe tbody tr th:only-of-type {\n",
       "        vertical-align: middle;\n",
       "    }\n",
       "\n",
       "    .dataframe tbody tr th {\n",
       "        vertical-align: top;\n",
       "    }\n",
       "\n",
       "    .dataframe thead th {\n",
       "        text-align: right;\n",
       "    }\n",
       "</style>\n",
       "<table border=\"1\" class=\"dataframe\">\n",
       "  <thead>\n",
       "    <tr style=\"text-align: right;\">\n",
       "      <th></th>\n",
       "      <th>post_owner</th>\n",
       "      <th>time_of_day</th>\n",
       "      <th>year</th>\n",
       "      <th>month</th>\n",
       "      <th>day</th>\n",
       "      <th>day_week</th>\n",
       "      <th>date</th>\n",
       "      <th>hour</th>\n",
       "      <th>part_of_day</th>\n",
       "    </tr>\n",
       "  </thead>\n",
       "  <tbody>\n",
       "    <tr>\n",
       "      <th>0</th>\n",
       "      <td>hashtagprogramacao</td>\n",
       "      <td>2021-07-20 03:05:37</td>\n",
       "      <td>2021</td>\n",
       "      <td>July</td>\n",
       "      <td>20</td>\n",
       "      <td>Tuesday</td>\n",
       "      <td>2021-07-20</td>\n",
       "      <td>3</td>\n",
       "      <td>Late Night</td>\n",
       "    </tr>\n",
       "    <tr>\n",
       "      <th>1</th>\n",
       "      <td>paporetonaofazcurva</td>\n",
       "      <td>2021-07-18 00:51:42</td>\n",
       "      <td>2021</td>\n",
       "      <td>July</td>\n",
       "      <td>18</td>\n",
       "      <td>Sunday</td>\n",
       "      <td>2021-07-18</td>\n",
       "      <td>0</td>\n",
       "      <td>Late Night</td>\n",
       "    </tr>\n",
       "    <tr>\n",
       "      <th>2</th>\n",
       "      <td>somosqoda</td>\n",
       "      <td>2021-07-18 00:49:24</td>\n",
       "      <td>2021</td>\n",
       "      <td>July</td>\n",
       "      <td>18</td>\n",
       "      <td>Sunday</td>\n",
       "      <td>2021-07-18</td>\n",
       "      <td>0</td>\n",
       "      <td>Late Night</td>\n",
       "    </tr>\n",
       "    <tr>\n",
       "      <th>3</th>\n",
       "      <td>carlos_melo.py</td>\n",
       "      <td>2021-07-18 00:36:14</td>\n",
       "      <td>2021</td>\n",
       "      <td>July</td>\n",
       "      <td>18</td>\n",
       "      <td>Sunday</td>\n",
       "      <td>2021-07-18</td>\n",
       "      <td>0</td>\n",
       "      <td>Late Night</td>\n",
       "    </tr>\n",
       "    <tr>\n",
       "      <th>4</th>\n",
       "      <td>inteligencialtda</td>\n",
       "      <td>2021-07-18 00:34:24</td>\n",
       "      <td>2021</td>\n",
       "      <td>July</td>\n",
       "      <td>18</td>\n",
       "      <td>Sunday</td>\n",
       "      <td>2021-07-18</td>\n",
       "      <td>0</td>\n",
       "      <td>Late Night</td>\n",
       "    </tr>\n",
       "    <tr>\n",
       "      <th>5</th>\n",
       "      <td>vilela</td>\n",
       "      <td>2021-07-18 00:34:17</td>\n",
       "      <td>2021</td>\n",
       "      <td>July</td>\n",
       "      <td>18</td>\n",
       "      <td>Sunday</td>\n",
       "      <td>2021-07-18</td>\n",
       "      <td>0</td>\n",
       "      <td>Late Night</td>\n",
       "    </tr>\n",
       "    <tr>\n",
       "      <th>6</th>\n",
       "      <td>pedropallotta</td>\n",
       "      <td>2021-07-18 00:34:08</td>\n",
       "      <td>2021</td>\n",
       "      <td>July</td>\n",
       "      <td>18</td>\n",
       "      <td>Sunday</td>\n",
       "      <td>2021-07-18</td>\n",
       "      <td>0</td>\n",
       "      <td>Late Night</td>\n",
       "    </tr>\n",
       "    <tr>\n",
       "      <th>7</th>\n",
       "      <td>googlebrasil</td>\n",
       "      <td>2021-07-17 01:36:22</td>\n",
       "      <td>2021</td>\n",
       "      <td>July</td>\n",
       "      <td>17</td>\n",
       "      <td>Saturday</td>\n",
       "      <td>2021-07-17</td>\n",
       "      <td>1</td>\n",
       "      <td>Late Night</td>\n",
       "    </tr>\n",
       "    <tr>\n",
       "      <th>8</th>\n",
       "      <td>carmodallavecchia</td>\n",
       "      <td>2021-07-17 01:24:47</td>\n",
       "      <td>2021</td>\n",
       "      <td>July</td>\n",
       "      <td>17</td>\n",
       "      <td>Saturday</td>\n",
       "      <td>2021-07-17</td>\n",
       "      <td>1</td>\n",
       "      <td>Late Night</td>\n",
       "    </tr>\n",
       "    <tr>\n",
       "      <th>9</th>\n",
       "      <td>vittorfernando</td>\n",
       "      <td>2021-07-17 01:21:52</td>\n",
       "      <td>2021</td>\n",
       "      <td>July</td>\n",
       "      <td>17</td>\n",
       "      <td>Saturday</td>\n",
       "      <td>2021-07-17</td>\n",
       "      <td>1</td>\n",
       "      <td>Late Night</td>\n",
       "    </tr>\n",
       "    <tr>\n",
       "      <th>10</th>\n",
       "      <td>podpahpdc</td>\n",
       "      <td>2021-07-17 01:13:48</td>\n",
       "      <td>2021</td>\n",
       "      <td>July</td>\n",
       "      <td>17</td>\n",
       "      <td>Saturday</td>\n",
       "      <td>2021-07-17</td>\n",
       "      <td>1</td>\n",
       "      <td>Late Night</td>\n",
       "    </tr>\n",
       "    <tr>\n",
       "      <th>11</th>\n",
       "      <td>filo.existencialismoeciencia</td>\n",
       "      <td>2021-07-17 01:02:50</td>\n",
       "      <td>2021</td>\n",
       "      <td>July</td>\n",
       "      <td>17</td>\n",
       "      <td>Saturday</td>\n",
       "      <td>2021-07-17</td>\n",
       "      <td>1</td>\n",
       "      <td>Late Night</td>\n",
       "    </tr>\n",
       "    <tr>\n",
       "      <th>12</th>\n",
       "      <td>thiago3.14</td>\n",
       "      <td>2021-07-17 01:02:44</td>\n",
       "      <td>2021</td>\n",
       "      <td>July</td>\n",
       "      <td>17</td>\n",
       "      <td>Saturday</td>\n",
       "      <td>2021-07-17</td>\n",
       "      <td>1</td>\n",
       "      <td>Late Night</td>\n",
       "    </tr>\n",
       "    <tr>\n",
       "      <th>13</th>\n",
       "      <td>adjunior_real</td>\n",
       "      <td>2021-07-16 23:51:13</td>\n",
       "      <td>2021</td>\n",
       "      <td>July</td>\n",
       "      <td>16</td>\n",
       "      <td>Friday</td>\n",
       "      <td>2021-07-16</td>\n",
       "      <td>23</td>\n",
       "      <td>Night</td>\n",
       "    </tr>\n",
       "    <tr>\n",
       "      <th>14</th>\n",
       "      <td>rufisjr</td>\n",
       "      <td>2021-07-16 14:04:17</td>\n",
       "      <td>2021</td>\n",
       "      <td>July</td>\n",
       "      <td>16</td>\n",
       "      <td>Friday</td>\n",
       "      <td>2021-07-16</td>\n",
       "      <td>14</td>\n",
       "      <td>Afternoon</td>\n",
       "    </tr>\n",
       "  </tbody>\n",
       "</table>\n",
       "</div>"
      ],
      "text/plain": [
       "                      post_owner         time_of_day  year month  day  \\\n",
       "0             hashtagprogramacao 2021-07-20 03:05:37  2021  July   20   \n",
       "1            paporetonaofazcurva 2021-07-18 00:51:42  2021  July   18   \n",
       "2                      somosqoda 2021-07-18 00:49:24  2021  July   18   \n",
       "3                 carlos_melo.py 2021-07-18 00:36:14  2021  July   18   \n",
       "4               inteligencialtda 2021-07-18 00:34:24  2021  July   18   \n",
       "5                         vilela 2021-07-18 00:34:17  2021  July   18   \n",
       "6                  pedropallotta 2021-07-18 00:34:08  2021  July   18   \n",
       "7                   googlebrasil 2021-07-17 01:36:22  2021  July   17   \n",
       "8              carmodallavecchia 2021-07-17 01:24:47  2021  July   17   \n",
       "9                 vittorfernando 2021-07-17 01:21:52  2021  July   17   \n",
       "10                     podpahpdc 2021-07-17 01:13:48  2021  July   17   \n",
       "11  filo.existencialismoeciencia 2021-07-17 01:02:50  2021  July   17   \n",
       "12                    thiago3.14 2021-07-17 01:02:44  2021  July   17   \n",
       "13                 adjunior_real 2021-07-16 23:51:13  2021  July   16   \n",
       "14                       rufisjr 2021-07-16 14:04:17  2021  July   16   \n",
       "\n",
       "    day_week        date  hour part_of_day  \n",
       "0    Tuesday  2021-07-20     3  Late Night  \n",
       "1     Sunday  2021-07-18     0  Late Night  \n",
       "2     Sunday  2021-07-18     0  Late Night  \n",
       "3     Sunday  2021-07-18     0  Late Night  \n",
       "4     Sunday  2021-07-18     0  Late Night  \n",
       "5     Sunday  2021-07-18     0  Late Night  \n",
       "6     Sunday  2021-07-18     0  Late Night  \n",
       "7   Saturday  2021-07-17     1  Late Night  \n",
       "8   Saturday  2021-07-17     1  Late Night  \n",
       "9   Saturday  2021-07-17     1  Late Night  \n",
       "10  Saturday  2021-07-17     1  Late Night  \n",
       "11  Saturday  2021-07-17     1  Late Night  \n",
       "12  Saturday  2021-07-17     1  Late Night  \n",
       "13    Friday  2021-07-16    23       Night  \n",
       "14    Friday  2021-07-16    14   Afternoon  "
      ]
     },
     "execution_count": 52,
     "metadata": {},
     "output_type": "execute_result"
    }
   ],
   "source": [
    "# Verificando se as faixas de horário estão segmentadas:\n",
    "df_following.head(15)"
   ]
  },
  {
   "cell_type": "markdown",
   "id": "5e6a43ce",
   "metadata": {},
   "source": [
    "### <font color='purple'>3.3.1. Salvando os dados tratados</font>"
   ]
  },
  {
   "cell_type": "code",
   "execution_count": 53,
   "id": "6ac84b86",
   "metadata": {},
   "outputs": [],
   "source": [
    "#df_following.to_csv('./dados_tratados/instagram/following.csv', index = None)"
   ]
  },
  {
   "cell_type": "markdown",
   "id": "a55c5def",
   "metadata": {},
   "source": [
    "### <font color='purple'>3.4. close_friends.json</font>\n",
    "**Deste arquivo eu vou listar os amigos próximos e o momento do dia em que os incluí na lista.     \n",
    "Da mesma forma que nos casos anteriores vou descartar metadados da publicação   \n",
    "e manter no DataFrame apenas o nome do perfil e data/hora da inclusão.     \n",
    "Preciso extrair as informações de data/hora do timestamp contido na base de dados.**"
   ]
  },
  {
   "cell_type": "code",
   "execution_count": 54,
   "id": "3f924565",
   "metadata": {},
   "outputs": [
    {
     "data": {
      "text/html": [
       "<div>\n",
       "<style scoped>\n",
       "    .dataframe tbody tr th:only-of-type {\n",
       "        vertical-align: middle;\n",
       "    }\n",
       "\n",
       "    .dataframe tbody tr th {\n",
       "        vertical-align: top;\n",
       "    }\n",
       "\n",
       "    .dataframe thead th {\n",
       "        text-align: right;\n",
       "    }\n",
       "</style>\n",
       "<table border=\"1\" class=\"dataframe\">\n",
       "  <thead>\n",
       "    <tr style=\"text-align: right;\">\n",
       "      <th></th>\n",
       "      <th>relationships_close_friends</th>\n",
       "    </tr>\n",
       "  </thead>\n",
       "  <tbody>\n",
       "    <tr>\n",
       "      <th>0</th>\n",
       "      <td>{'title': '', 'media_list_data': [], 'string_l...</td>\n",
       "    </tr>\n",
       "    <tr>\n",
       "      <th>1</th>\n",
       "      <td>{'title': '', 'media_list_data': [], 'string_l...</td>\n",
       "    </tr>\n",
       "    <tr>\n",
       "      <th>2</th>\n",
       "      <td>{'title': '', 'media_list_data': [], 'string_l...</td>\n",
       "    </tr>\n",
       "    <tr>\n",
       "      <th>3</th>\n",
       "      <td>{'title': '', 'media_list_data': [], 'string_l...</td>\n",
       "    </tr>\n",
       "    <tr>\n",
       "      <th>4</th>\n",
       "      <td>{'title': '', 'media_list_data': [], 'string_l...</td>\n",
       "    </tr>\n",
       "  </tbody>\n",
       "</table>\n",
       "</div>"
      ],
      "text/plain": [
       "                         relationships_close_friends\n",
       "0  {'title': '', 'media_list_data': [], 'string_l...\n",
       "1  {'title': '', 'media_list_data': [], 'string_l...\n",
       "2  {'title': '', 'media_list_data': [], 'string_l...\n",
       "3  {'title': '', 'media_list_data': [], 'string_l...\n",
       "4  {'title': '', 'media_list_data': [], 'string_l..."
      ]
     },
     "execution_count": 54,
     "metadata": {},
     "output_type": "execute_result"
    }
   ],
   "source": [
    "df_close_friends.head()"
   ]
  },
  {
   "cell_type": "code",
   "execution_count": 55,
   "id": "50a07981",
   "metadata": {},
   "outputs": [
    {
     "data": {
      "text/plain": [
       "pandas.core.series.Series"
      ]
     },
     "execution_count": 55,
     "metadata": {},
     "output_type": "execute_result"
    }
   ],
   "source": [
    "# Separando o timestamp em nova Series\n",
    "time_of_day = pd.json_normalize(df_close_friends[\"relationships_close_friends\"], \"string_list_data\")['timestamp']\n",
    "\n",
    "type(time_of_day)"
   ]
  },
  {
   "cell_type": "code",
   "execution_count": 56,
   "id": "eb000326",
   "metadata": {},
   "outputs": [
    {
     "data": {
      "text/plain": [
       "0    1601420019\n",
       "1    1589809909\n",
       "2    1585779872\n",
       "3    1585779673\n",
       "4    1585779666\n",
       "Name: timestamp, dtype: int64"
      ]
     },
     "execution_count": 56,
     "metadata": {},
     "output_type": "execute_result"
    }
   ],
   "source": [
    "time_of_day.head()"
   ]
  },
  {
   "cell_type": "code",
   "execution_count": 57,
   "id": "f65032aa",
   "metadata": {},
   "outputs": [
    {
     "data": {
      "text/plain": [
       "pandas.core.series.Series"
      ]
     },
     "execution_count": 57,
     "metadata": {},
     "output_type": "execute_result"
    }
   ],
   "source": [
    "# Separando o nome dos amigos próximos\n",
    "name = pd.json_normalize(df_close_friends[\"relationships_close_friends\"], \"string_list_data\")['value']\n",
    "\n",
    "type(name)"
   ]
  },
  {
   "cell_type": "code",
   "execution_count": 58,
   "id": "d0b36272",
   "metadata": {},
   "outputs": [
    {
     "data": {
      "text/plain": [
       "0           caiocportela\n",
       "1                 saalrf\n",
       "2           elizabete.ls\n",
       "3       louise_louisinha\n",
       "4         monicaalves027\n",
       "5     casadearthurelucas\n",
       "6              roh_costa\n",
       "7         conjecturancas\n",
       "8               tulio.87\n",
       "9       victorleandro4.0\n",
       "10        cleyson.erasmo\n",
       "11           tamisacosta\n",
       "12     jonathas_paulo_jp\n",
       "13           rai_sousajr\n",
       "14        luccas._.alves\n",
       "15     sylvesterhenrique\n",
       "Name: value, dtype: object"
      ]
     },
     "execution_count": 58,
     "metadata": {},
     "output_type": "execute_result"
    }
   ],
   "source": [
    "name"
   ]
  },
  {
   "cell_type": "markdown",
   "id": "b79b31df",
   "metadata": {},
   "source": [
    "**Uma vez que extraí as informações úteis, preciso concatená-las em um novo DataFrame:**"
   ]
  },
  {
   "cell_type": "code",
   "execution_count": 59,
   "id": "0313d65b",
   "metadata": {},
   "outputs": [
    {
     "data": {
      "text/plain": [
       "pandas.core.frame.DataFrame"
      ]
     },
     "execution_count": 59,
     "metadata": {},
     "output_type": "execute_result"
    }
   ],
   "source": [
    "data_cf = {\n",
    "    'name': name,\n",
    "    'time_of_day': time_of_day \n",
    "}\n",
    "\n",
    "df_close_friends = pd.concat(data_cf, axis = 1)\n",
    "\n",
    "type(df_close_friends)"
   ]
  },
  {
   "cell_type": "code",
   "execution_count": 60,
   "id": "be67a5da",
   "metadata": {},
   "outputs": [
    {
     "data": {
      "text/html": [
       "<div>\n",
       "<style scoped>\n",
       "    .dataframe tbody tr th:only-of-type {\n",
       "        vertical-align: middle;\n",
       "    }\n",
       "\n",
       "    .dataframe tbody tr th {\n",
       "        vertical-align: top;\n",
       "    }\n",
       "\n",
       "    .dataframe thead th {\n",
       "        text-align: right;\n",
       "    }\n",
       "</style>\n",
       "<table border=\"1\" class=\"dataframe\">\n",
       "  <thead>\n",
       "    <tr style=\"text-align: right;\">\n",
       "      <th></th>\n",
       "      <th>name</th>\n",
       "      <th>time_of_day</th>\n",
       "    </tr>\n",
       "  </thead>\n",
       "  <tbody>\n",
       "    <tr>\n",
       "      <th>0</th>\n",
       "      <td>caiocportela</td>\n",
       "      <td>1601420019</td>\n",
       "    </tr>\n",
       "    <tr>\n",
       "      <th>1</th>\n",
       "      <td>saalrf</td>\n",
       "      <td>1589809909</td>\n",
       "    </tr>\n",
       "    <tr>\n",
       "      <th>2</th>\n",
       "      <td>elizabete.ls</td>\n",
       "      <td>1585779872</td>\n",
       "    </tr>\n",
       "    <tr>\n",
       "      <th>3</th>\n",
       "      <td>louise_louisinha</td>\n",
       "      <td>1585779673</td>\n",
       "    </tr>\n",
       "    <tr>\n",
       "      <th>4</th>\n",
       "      <td>monicaalves027</td>\n",
       "      <td>1585779666</td>\n",
       "    </tr>\n",
       "  </tbody>\n",
       "</table>\n",
       "</div>"
      ],
      "text/plain": [
       "               name  time_of_day\n",
       "0      caiocportela   1601420019\n",
       "1            saalrf   1589809909\n",
       "2      elizabete.ls   1585779872\n",
       "3  louise_louisinha   1585779673\n",
       "4    monicaalves027   1585779666"
      ]
     },
     "execution_count": 60,
     "metadata": {},
     "output_type": "execute_result"
    }
   ],
   "source": [
    "df_close_friends.head()"
   ]
  },
  {
   "cell_type": "markdown",
   "id": "72f2f080",
   "metadata": {},
   "source": [
    "**Verificando o tamanho do DataFrame:**"
   ]
  },
  {
   "cell_type": "code",
   "execution_count": 61,
   "id": "82a2578b",
   "metadata": {},
   "outputs": [
    {
     "data": {
      "text/plain": [
       "(16, 2)"
      ]
     },
     "execution_count": 61,
     "metadata": {},
     "output_type": "execute_result"
    }
   ],
   "source": [
    "df_close_friends.shape"
   ]
  },
  {
   "cell_type": "markdown",
   "id": "1e13cb65",
   "metadata": {},
   "source": [
    "**Preciso checar se os tipos de dados de cada coluna permite a manipulação     \n",
    "que pretendo realizar e se há dados nulos:**"
   ]
  },
  {
   "cell_type": "code",
   "execution_count": 62,
   "id": "2a7290dc",
   "metadata": {},
   "outputs": [
    {
     "name": "stdout",
     "output_type": "stream",
     "text": [
      "<class 'pandas.core.frame.DataFrame'>\n",
      "RangeIndex: 16 entries, 0 to 15\n",
      "Data columns (total 2 columns):\n",
      " #   Column       Non-Null Count  Dtype \n",
      "---  ------       --------------  ----- \n",
      " 0   name         16 non-null     object\n",
      " 1   time_of_day  16 non-null     int64 \n",
      "dtypes: int64(1), object(1)\n",
      "memory usage: 384.0+ bytes\n"
     ]
    }
   ],
   "source": [
    "# Informações sobre os dados:\n",
    "df_close_friends.info()"
   ]
  },
  {
   "cell_type": "markdown",
   "id": "818dec8a",
   "metadata": {},
   "source": [
    "**Vejo que não há dados nulos e vou seguir com a conversão do tipo de dado     \n",
    "da coluna 'time_of_day' de timestamp -> para datetime:**"
   ]
  },
  {
   "cell_type": "code",
   "execution_count": 63,
   "id": "b4259889",
   "metadata": {},
   "outputs": [],
   "source": [
    "df_close_friends['time_of_day'] = pd.to_datetime(df_close_friends['time_of_day'], unit='s')"
   ]
  },
  {
   "cell_type": "code",
   "execution_count": 64,
   "id": "8226df34",
   "metadata": {},
   "outputs": [
    {
     "name": "stdout",
     "output_type": "stream",
     "text": [
      "<class 'pandas.core.frame.DataFrame'>\n",
      "RangeIndex: 16 entries, 0 to 15\n",
      "Data columns (total 2 columns):\n",
      " #   Column       Non-Null Count  Dtype         \n",
      "---  ------       --------------  -----         \n",
      " 0   name         16 non-null     object        \n",
      " 1   time_of_day  16 non-null     datetime64[ns]\n",
      "dtypes: datetime64[ns](1), object(1)\n",
      "memory usage: 384.0+ bytes\n"
     ]
    }
   ],
   "source": [
    "# Confirmando se os dados foram convertidos para o tipo datetime:\n",
    "df_close_friends.info()"
   ]
  },
  {
   "cell_type": "markdown",
   "id": "5473fc6f",
   "metadata": {},
   "source": [
    "**Agora vou separar algumas informações contidas no timestamp e criar novas colunas     \n",
    "com ano, mês, dia do mês, dia da semana, data e hora:**"
   ]
  },
  {
   "cell_type": "code",
   "execution_count": 65,
   "id": "7cd132d7",
   "metadata": {},
   "outputs": [
    {
     "data": {
      "text/html": [
       "<div>\n",
       "<style scoped>\n",
       "    .dataframe tbody tr th:only-of-type {\n",
       "        vertical-align: middle;\n",
       "    }\n",
       "\n",
       "    .dataframe tbody tr th {\n",
       "        vertical-align: top;\n",
       "    }\n",
       "\n",
       "    .dataframe thead th {\n",
       "        text-align: right;\n",
       "    }\n",
       "</style>\n",
       "<table border=\"1\" class=\"dataframe\">\n",
       "  <thead>\n",
       "    <tr style=\"text-align: right;\">\n",
       "      <th></th>\n",
       "      <th>name</th>\n",
       "      <th>time_of_day</th>\n",
       "      <th>year</th>\n",
       "      <th>month</th>\n",
       "      <th>day</th>\n",
       "      <th>day_week</th>\n",
       "      <th>date</th>\n",
       "      <th>hour</th>\n",
       "    </tr>\n",
       "  </thead>\n",
       "  <tbody>\n",
       "    <tr>\n",
       "      <th>0</th>\n",
       "      <td>caiocportela</td>\n",
       "      <td>2020-09-29 22:53:39</td>\n",
       "      <td>2020</td>\n",
       "      <td>September</td>\n",
       "      <td>29</td>\n",
       "      <td>Tuesday</td>\n",
       "      <td>2020-09-29</td>\n",
       "      <td>22</td>\n",
       "    </tr>\n",
       "    <tr>\n",
       "      <th>1</th>\n",
       "      <td>saalrf</td>\n",
       "      <td>2020-05-18 13:51:49</td>\n",
       "      <td>2020</td>\n",
       "      <td>May</td>\n",
       "      <td>18</td>\n",
       "      <td>Monday</td>\n",
       "      <td>2020-05-18</td>\n",
       "      <td>13</td>\n",
       "    </tr>\n",
       "    <tr>\n",
       "      <th>2</th>\n",
       "      <td>elizabete.ls</td>\n",
       "      <td>2020-04-01 22:24:32</td>\n",
       "      <td>2020</td>\n",
       "      <td>April</td>\n",
       "      <td>1</td>\n",
       "      <td>Wednesday</td>\n",
       "      <td>2020-04-01</td>\n",
       "      <td>22</td>\n",
       "    </tr>\n",
       "    <tr>\n",
       "      <th>3</th>\n",
       "      <td>louise_louisinha</td>\n",
       "      <td>2020-04-01 22:21:13</td>\n",
       "      <td>2020</td>\n",
       "      <td>April</td>\n",
       "      <td>1</td>\n",
       "      <td>Wednesday</td>\n",
       "      <td>2020-04-01</td>\n",
       "      <td>22</td>\n",
       "    </tr>\n",
       "    <tr>\n",
       "      <th>4</th>\n",
       "      <td>monicaalves027</td>\n",
       "      <td>2020-04-01 22:21:06</td>\n",
       "      <td>2020</td>\n",
       "      <td>April</td>\n",
       "      <td>1</td>\n",
       "      <td>Wednesday</td>\n",
       "      <td>2020-04-01</td>\n",
       "      <td>22</td>\n",
       "    </tr>\n",
       "  </tbody>\n",
       "</table>\n",
       "</div>"
      ],
      "text/plain": [
       "               name         time_of_day  year      month  day   day_week  \\\n",
       "0      caiocportela 2020-09-29 22:53:39  2020  September   29    Tuesday   \n",
       "1            saalrf 2020-05-18 13:51:49  2020        May   18     Monday   \n",
       "2      elizabete.ls 2020-04-01 22:24:32  2020      April    1  Wednesday   \n",
       "3  louise_louisinha 2020-04-01 22:21:13  2020      April    1  Wednesday   \n",
       "4    monicaalves027 2020-04-01 22:21:06  2020      April    1  Wednesday   \n",
       "\n",
       "         date  hour  \n",
       "0  2020-09-29    22  \n",
       "1  2020-05-18    13  \n",
       "2  2020-04-01    22  \n",
       "3  2020-04-01    22  \n",
       "4  2020-04-01    22  "
      ]
     },
     "execution_count": 65,
     "metadata": {},
     "output_type": "execute_result"
    }
   ],
   "source": [
    "# Ano\n",
    "df_close_friends['year'] = df_close_friends['time_of_day'].dt.year\n",
    "\n",
    "# Mês\n",
    "df_close_friends['month'] = df_close_friends['time_of_day'].dt.month_name()\n",
    "\n",
    "# Dia do mês\n",
    "df_close_friends['day'] = df_close_friends['time_of_day'].dt.day\n",
    "\n",
    "# Dia da semana\n",
    "df_close_friends['day_week'] = df_close_friends['time_of_day'].dt.day_name()\n",
    "\n",
    "# Data\n",
    "df_close_friends['date'] = df_close_friends['time_of_day'].dt.date\n",
    "\n",
    "# Hora\n",
    "df_close_friends['hour'] = df_close_friends['time_of_day'].dt.hour\n",
    "\n",
    "df_close_friends.head()"
   ]
  },
  {
   "cell_type": "markdown",
   "id": "a4e467d8",
   "metadata": {},
   "source": [
    "**Agora vou criar colunas específicas para o momento do dia, exemplo:    \n",
    "1.Início da manhã,    \n",
    "2.Manhã,    \n",
    "3.Tarde,    \n",
    "4.Noite,    \n",
    "5.Final da Noite e    \n",
    "6.Madrugada**    "
   ]
  },
  {
   "cell_type": "code",
   "execution_count": 66,
   "id": "9cbf9335",
   "metadata": {},
   "outputs": [],
   "source": [
    "# Criando uma coluna com a parte do dia e aplicando a função segmenting_day() à coluna de horário:\n",
    "df_close_friends['part_of_day'] = df_close_friends['hour'].apply(segmenting_day)"
   ]
  },
  {
   "cell_type": "code",
   "execution_count": 67,
   "id": "3ae41b24",
   "metadata": {},
   "outputs": [
    {
     "data": {
      "text/html": [
       "<div>\n",
       "<style scoped>\n",
       "    .dataframe tbody tr th:only-of-type {\n",
       "        vertical-align: middle;\n",
       "    }\n",
       "\n",
       "    .dataframe tbody tr th {\n",
       "        vertical-align: top;\n",
       "    }\n",
       "\n",
       "    .dataframe thead th {\n",
       "        text-align: right;\n",
       "    }\n",
       "</style>\n",
       "<table border=\"1\" class=\"dataframe\">\n",
       "  <thead>\n",
       "    <tr style=\"text-align: right;\">\n",
       "      <th></th>\n",
       "      <th>name</th>\n",
       "      <th>time_of_day</th>\n",
       "      <th>year</th>\n",
       "      <th>month</th>\n",
       "      <th>day</th>\n",
       "      <th>day_week</th>\n",
       "      <th>date</th>\n",
       "      <th>hour</th>\n",
       "      <th>part_of_day</th>\n",
       "    </tr>\n",
       "  </thead>\n",
       "  <tbody>\n",
       "    <tr>\n",
       "      <th>0</th>\n",
       "      <td>caiocportela</td>\n",
       "      <td>2020-09-29 22:53:39</td>\n",
       "      <td>2020</td>\n",
       "      <td>September</td>\n",
       "      <td>29</td>\n",
       "      <td>Tuesday</td>\n",
       "      <td>2020-09-29</td>\n",
       "      <td>22</td>\n",
       "      <td>Night</td>\n",
       "    </tr>\n",
       "    <tr>\n",
       "      <th>1</th>\n",
       "      <td>saalrf</td>\n",
       "      <td>2020-05-18 13:51:49</td>\n",
       "      <td>2020</td>\n",
       "      <td>May</td>\n",
       "      <td>18</td>\n",
       "      <td>Monday</td>\n",
       "      <td>2020-05-18</td>\n",
       "      <td>13</td>\n",
       "      <td>Afternoon</td>\n",
       "    </tr>\n",
       "    <tr>\n",
       "      <th>2</th>\n",
       "      <td>elizabete.ls</td>\n",
       "      <td>2020-04-01 22:24:32</td>\n",
       "      <td>2020</td>\n",
       "      <td>April</td>\n",
       "      <td>1</td>\n",
       "      <td>Wednesday</td>\n",
       "      <td>2020-04-01</td>\n",
       "      <td>22</td>\n",
       "      <td>Night</td>\n",
       "    </tr>\n",
       "    <tr>\n",
       "      <th>3</th>\n",
       "      <td>louise_louisinha</td>\n",
       "      <td>2020-04-01 22:21:13</td>\n",
       "      <td>2020</td>\n",
       "      <td>April</td>\n",
       "      <td>1</td>\n",
       "      <td>Wednesday</td>\n",
       "      <td>2020-04-01</td>\n",
       "      <td>22</td>\n",
       "      <td>Night</td>\n",
       "    </tr>\n",
       "    <tr>\n",
       "      <th>4</th>\n",
       "      <td>monicaalves027</td>\n",
       "      <td>2020-04-01 22:21:06</td>\n",
       "      <td>2020</td>\n",
       "      <td>April</td>\n",
       "      <td>1</td>\n",
       "      <td>Wednesday</td>\n",
       "      <td>2020-04-01</td>\n",
       "      <td>22</td>\n",
       "      <td>Night</td>\n",
       "    </tr>\n",
       "    <tr>\n",
       "      <th>5</th>\n",
       "      <td>casadearthurelucas</td>\n",
       "      <td>2020-04-01 22:20:55</td>\n",
       "      <td>2020</td>\n",
       "      <td>April</td>\n",
       "      <td>1</td>\n",
       "      <td>Wednesday</td>\n",
       "      <td>2020-04-01</td>\n",
       "      <td>22</td>\n",
       "      <td>Night</td>\n",
       "    </tr>\n",
       "    <tr>\n",
       "      <th>6</th>\n",
       "      <td>roh_costa</td>\n",
       "      <td>2020-04-01 22:20:41</td>\n",
       "      <td>2020</td>\n",
       "      <td>April</td>\n",
       "      <td>1</td>\n",
       "      <td>Wednesday</td>\n",
       "      <td>2020-04-01</td>\n",
       "      <td>22</td>\n",
       "      <td>Night</td>\n",
       "    </tr>\n",
       "    <tr>\n",
       "      <th>7</th>\n",
       "      <td>conjecturancas</td>\n",
       "      <td>2020-04-01 22:20:32</td>\n",
       "      <td>2020</td>\n",
       "      <td>April</td>\n",
       "      <td>1</td>\n",
       "      <td>Wednesday</td>\n",
       "      <td>2020-04-01</td>\n",
       "      <td>22</td>\n",
       "      <td>Night</td>\n",
       "    </tr>\n",
       "    <tr>\n",
       "      <th>8</th>\n",
       "      <td>tulio.87</td>\n",
       "      <td>2020-04-01 22:19:23</td>\n",
       "      <td>2020</td>\n",
       "      <td>April</td>\n",
       "      <td>1</td>\n",
       "      <td>Wednesday</td>\n",
       "      <td>2020-04-01</td>\n",
       "      <td>22</td>\n",
       "      <td>Night</td>\n",
       "    </tr>\n",
       "    <tr>\n",
       "      <th>9</th>\n",
       "      <td>victorleandro4.0</td>\n",
       "      <td>2020-03-29 19:54:23</td>\n",
       "      <td>2020</td>\n",
       "      <td>March</td>\n",
       "      <td>29</td>\n",
       "      <td>Sunday</td>\n",
       "      <td>2020-03-29</td>\n",
       "      <td>19</td>\n",
       "      <td>Evening</td>\n",
       "    </tr>\n",
       "    <tr>\n",
       "      <th>10</th>\n",
       "      <td>cleyson.erasmo</td>\n",
       "      <td>2019-03-16 03:27:13</td>\n",
       "      <td>2019</td>\n",
       "      <td>March</td>\n",
       "      <td>16</td>\n",
       "      <td>Saturday</td>\n",
       "      <td>2019-03-16</td>\n",
       "      <td>3</td>\n",
       "      <td>Late Night</td>\n",
       "    </tr>\n",
       "    <tr>\n",
       "      <th>11</th>\n",
       "      <td>tamisacosta</td>\n",
       "      <td>2019-03-16 03:27:13</td>\n",
       "      <td>2019</td>\n",
       "      <td>March</td>\n",
       "      <td>16</td>\n",
       "      <td>Saturday</td>\n",
       "      <td>2019-03-16</td>\n",
       "      <td>3</td>\n",
       "      <td>Late Night</td>\n",
       "    </tr>\n",
       "    <tr>\n",
       "      <th>12</th>\n",
       "      <td>jonathas_paulo_jp</td>\n",
       "      <td>2019-03-16 03:25:26</td>\n",
       "      <td>2019</td>\n",
       "      <td>March</td>\n",
       "      <td>16</td>\n",
       "      <td>Saturday</td>\n",
       "      <td>2019-03-16</td>\n",
       "      <td>3</td>\n",
       "      <td>Late Night</td>\n",
       "    </tr>\n",
       "    <tr>\n",
       "      <th>13</th>\n",
       "      <td>rai_sousajr</td>\n",
       "      <td>2019-03-16 03:25:26</td>\n",
       "      <td>2019</td>\n",
       "      <td>March</td>\n",
       "      <td>16</td>\n",
       "      <td>Saturday</td>\n",
       "      <td>2019-03-16</td>\n",
       "      <td>3</td>\n",
       "      <td>Late Night</td>\n",
       "    </tr>\n",
       "    <tr>\n",
       "      <th>14</th>\n",
       "      <td>luccas._.alves</td>\n",
       "      <td>2019-03-16 03:25:26</td>\n",
       "      <td>2019</td>\n",
       "      <td>March</td>\n",
       "      <td>16</td>\n",
       "      <td>Saturday</td>\n",
       "      <td>2019-03-16</td>\n",
       "      <td>3</td>\n",
       "      <td>Late Night</td>\n",
       "    </tr>\n",
       "  </tbody>\n",
       "</table>\n",
       "</div>"
      ],
      "text/plain": [
       "                  name         time_of_day  year      month  day   day_week  \\\n",
       "0         caiocportela 2020-09-29 22:53:39  2020  September   29    Tuesday   \n",
       "1               saalrf 2020-05-18 13:51:49  2020        May   18     Monday   \n",
       "2         elizabete.ls 2020-04-01 22:24:32  2020      April    1  Wednesday   \n",
       "3     louise_louisinha 2020-04-01 22:21:13  2020      April    1  Wednesday   \n",
       "4       monicaalves027 2020-04-01 22:21:06  2020      April    1  Wednesday   \n",
       "5   casadearthurelucas 2020-04-01 22:20:55  2020      April    1  Wednesday   \n",
       "6            roh_costa 2020-04-01 22:20:41  2020      April    1  Wednesday   \n",
       "7       conjecturancas 2020-04-01 22:20:32  2020      April    1  Wednesday   \n",
       "8             tulio.87 2020-04-01 22:19:23  2020      April    1  Wednesday   \n",
       "9     victorleandro4.0 2020-03-29 19:54:23  2020      March   29     Sunday   \n",
       "10      cleyson.erasmo 2019-03-16 03:27:13  2019      March   16   Saturday   \n",
       "11         tamisacosta 2019-03-16 03:27:13  2019      March   16   Saturday   \n",
       "12   jonathas_paulo_jp 2019-03-16 03:25:26  2019      March   16   Saturday   \n",
       "13         rai_sousajr 2019-03-16 03:25:26  2019      March   16   Saturday   \n",
       "14      luccas._.alves 2019-03-16 03:25:26  2019      March   16   Saturday   \n",
       "\n",
       "          date  hour part_of_day  \n",
       "0   2020-09-29    22       Night  \n",
       "1   2020-05-18    13   Afternoon  \n",
       "2   2020-04-01    22       Night  \n",
       "3   2020-04-01    22       Night  \n",
       "4   2020-04-01    22       Night  \n",
       "5   2020-04-01    22       Night  \n",
       "6   2020-04-01    22       Night  \n",
       "7   2020-04-01    22       Night  \n",
       "8   2020-04-01    22       Night  \n",
       "9   2020-03-29    19     Evening  \n",
       "10  2019-03-16     3  Late Night  \n",
       "11  2019-03-16     3  Late Night  \n",
       "12  2019-03-16     3  Late Night  \n",
       "13  2019-03-16     3  Late Night  \n",
       "14  2019-03-16     3  Late Night  "
      ]
     },
     "execution_count": 67,
     "metadata": {},
     "output_type": "execute_result"
    }
   ],
   "source": [
    "# Verificando se as faixas de horário estão segmentadas:\n",
    "df_close_friends.head(15)"
   ]
  },
  {
   "cell_type": "markdown",
   "id": "6f20b08c",
   "metadata": {},
   "source": [
    "### <font color='purple'>3.4.1. Salvando os dados tratados</font>"
   ]
  },
  {
   "cell_type": "code",
   "execution_count": 68,
   "id": "fddf9d91",
   "metadata": {},
   "outputs": [],
   "source": [
    "#df_close_friends.to_csv('./dados_tratados/instagram/close_friends.csv', index = None)"
   ]
  },
  {
   "cell_type": "markdown",
   "id": "57a4b567",
   "metadata": {},
   "source": [
    "## <font color='magenta'>4. Análise Exploratória dos dados do Instagram</font>"
   ]
  },
  {
   "cell_type": "markdown",
   "id": "dbf035d2",
   "metadata": {},
   "source": [
    "### <font color='purple'>4.1. liked_posts.csv</font>"
   ]
  },
  {
   "cell_type": "code",
   "execution_count": 69,
   "id": "ac7b7354",
   "metadata": {},
   "outputs": [],
   "source": [
    "# Importando a base liked_posts.csv\n",
    "df_likes = pd.read_csv(\"./dados_tratados/instagram/likes.csv\", sep=',', encoding = 'UTF-8')"
   ]
  },
  {
   "cell_type": "code",
   "execution_count": 70,
   "id": "073a2b98",
   "metadata": {},
   "outputs": [
    {
     "data": {
      "text/html": [
       "<div>\n",
       "<style scoped>\n",
       "    .dataframe tbody tr th:only-of-type {\n",
       "        vertical-align: middle;\n",
       "    }\n",
       "\n",
       "    .dataframe tbody tr th {\n",
       "        vertical-align: top;\n",
       "    }\n",
       "\n",
       "    .dataframe thead th {\n",
       "        text-align: right;\n",
       "    }\n",
       "</style>\n",
       "<table border=\"1\" class=\"dataframe\">\n",
       "  <thead>\n",
       "    <tr style=\"text-align: right;\">\n",
       "      <th></th>\n",
       "      <th>post_owner</th>\n",
       "      <th>time_of_day</th>\n",
       "      <th>year</th>\n",
       "      <th>month</th>\n",
       "      <th>day</th>\n",
       "      <th>day_of_week</th>\n",
       "      <th>date</th>\n",
       "      <th>hour</th>\n",
       "      <th>part_of_day</th>\n",
       "    </tr>\n",
       "  </thead>\n",
       "  <tbody>\n",
       "    <tr>\n",
       "      <th>0</th>\n",
       "      <td>tamisacosta</td>\n",
       "      <td>2016-06-30 04:11:26</td>\n",
       "      <td>2016</td>\n",
       "      <td>June</td>\n",
       "      <td>30</td>\n",
       "      <td>Thursday</td>\n",
       "      <td>2016-06-30</td>\n",
       "      <td>4</td>\n",
       "      <td>Late Night</td>\n",
       "    </tr>\n",
       "    <tr>\n",
       "      <th>1</th>\n",
       "      <td>pe_do_ze</td>\n",
       "      <td>2016-06-29 13:54:38</td>\n",
       "      <td>2016</td>\n",
       "      <td>June</td>\n",
       "      <td>29</td>\n",
       "      <td>Wednesday</td>\n",
       "      <td>2016-06-29</td>\n",
       "      <td>13</td>\n",
       "      <td>Afternoon</td>\n",
       "    </tr>\n",
       "    <tr>\n",
       "      <th>2</th>\n",
       "      <td>sushi_querida</td>\n",
       "      <td>2016-06-28 03:57:47</td>\n",
       "      <td>2016</td>\n",
       "      <td>June</td>\n",
       "      <td>28</td>\n",
       "      <td>Tuesday</td>\n",
       "      <td>2016-06-28</td>\n",
       "      <td>3</td>\n",
       "      <td>Late Night</td>\n",
       "    </tr>\n",
       "    <tr>\n",
       "      <th>3</th>\n",
       "      <td>brunamalheiros</td>\n",
       "      <td>2016-06-28 03:57:11</td>\n",
       "      <td>2016</td>\n",
       "      <td>June</td>\n",
       "      <td>28</td>\n",
       "      <td>Tuesday</td>\n",
       "      <td>2016-06-28</td>\n",
       "      <td>3</td>\n",
       "      <td>Late Night</td>\n",
       "    </tr>\n",
       "    <tr>\n",
       "      <th>4</th>\n",
       "      <td>abaddon_hades</td>\n",
       "      <td>2016-06-28 03:55:55</td>\n",
       "      <td>2016</td>\n",
       "      <td>June</td>\n",
       "      <td>28</td>\n",
       "      <td>Tuesday</td>\n",
       "      <td>2016-06-28</td>\n",
       "      <td>3</td>\n",
       "      <td>Late Night</td>\n",
       "    </tr>\n",
       "  </tbody>\n",
       "</table>\n",
       "</div>"
      ],
      "text/plain": [
       "       post_owner          time_of_day  year month  day day_of_week  \\\n",
       "0     tamisacosta  2016-06-30 04:11:26  2016  June   30    Thursday   \n",
       "1        pe_do_ze  2016-06-29 13:54:38  2016  June   29   Wednesday   \n",
       "2   sushi_querida  2016-06-28 03:57:47  2016  June   28     Tuesday   \n",
       "3  brunamalheiros  2016-06-28 03:57:11  2016  June   28     Tuesday   \n",
       "4   abaddon_hades  2016-06-28 03:55:55  2016  June   28     Tuesday   \n",
       "\n",
       "         date  hour part_of_day  \n",
       "0  2016-06-30     4  Late Night  \n",
       "1  2016-06-29    13   Afternoon  \n",
       "2  2016-06-28     3  Late Night  \n",
       "3  2016-06-28     3  Late Night  \n",
       "4  2016-06-28     3  Late Night  "
      ]
     },
     "execution_count": 70,
     "metadata": {},
     "output_type": "execute_result"
    }
   ],
   "source": [
    "df_likes.head()"
   ]
  },
  {
   "cell_type": "code",
   "execution_count": 71,
   "id": "ada67cde",
   "metadata": {},
   "outputs": [
    {
     "data": {
      "text/plain": [
       "<AxesSubplot:>"
      ]
     },
     "execution_count": 71,
     "metadata": {},
     "output_type": "execute_result"
    },
    {
     "data": {
      "image/png": "[encoded data removed]",
      "text/plain": [
       "<Figure size 1008x504 with 1 Axes>"
      ]
     },
     "metadata": {},
     "output_type": "display_data"
    }
   ],
   "source": [
    "# Likes por ano\n",
    "df_likes['year'].value_counts().sort_values().plot(kind='bar', color='magenta', figsize=(14,7), rot=0)"
   ]
  },
  {
   "cell_type": "code",
   "execution_count": 72,
   "id": "363bed53",
   "metadata": {},
   "outputs": [
    {
     "data": {
      "text/plain": [
       "<AxesSubplot:>"
      ]
     },
     "execution_count": 72,
     "metadata": {},
     "output_type": "execute_result"
    },
    {
     "data": {
      "image/png": "[encoded data removed]",
      "text/plain": [
       "<Figure size 1008x504 with 1 Axes>"
      ]
     },
     "metadata": {},
     "output_type": "display_data"
    }
   ],
   "source": [
    "# Likes por dia da semana\n",
    "df_likes['day_of_week'].value_counts().sort_values().plot(kind='barh', color='purple', figsize=(14,7))"
   ]
  },
  {
   "cell_type": "markdown",
   "id": "164445a0",
   "metadata": {},
   "source": [
    "### Obs: A Análise Exploratória completa será realizada no Tableau"
   ]
  },
  {
   "cell_type": "markdown",
   "id": "907ce658",
   "metadata": {},
   "source": [
    "## <font color='magenta'>Fim</font>"
   ]
  }
 ],
 "metadata": {
  "kernelspec": {
   "display_name": "Python 3 (ipykernel)",
   "language": "python",
   "name": "python3"
  },
  "language_info": {
   "codemirror_mode": {
    "name": "ipython",
    "version": 3
   },
   "file_extension": ".py",
   "mimetype": "text/x-python",
   "name": "python",
   "nbconvert_exporter": "python",
   "pygments_lexer": "ipython3",
   "version": "3.8.5"
  }
 },
 "nbformat": 4,
 "nbformat_minor": 5
}
